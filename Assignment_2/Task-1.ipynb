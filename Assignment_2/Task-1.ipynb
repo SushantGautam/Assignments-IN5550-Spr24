{
 "cells": [
  {
   "cell_type": "markdown",
   "id": "20c2f418-840c-4e02-a512-7304c9396370",
   "metadata": {
    "id": "20c2f418-840c-4e02-a512-7304c9396370"
   },
   "source": [
    "# Import necessary libraries"
   ]
  },
  {
   "cell_type": "code",
   "execution_count": 1,
   "id": "6309e048-f299-45b3-896a-1eb178eb77f7",
   "metadata": {
    "id": "6309e048-f299-45b3-896a-1eb178eb77f7"
   },
   "outputs": [],
   "source": [
    "# from eval_on_test import read_data\n",
    "#https://huggingface.co/docs/transformers/tasks/token_classification"
   ]
  },
  {
   "cell_type": "code",
   "execution_count": 2,
   "id": "c5a3d63b-d420-48ce-866d-b117bd95afc9",
   "metadata": {
    "colab": {
     "base_uri": "https://localhost:8080/",
     "height": 35
    },
    "id": "c5a3d63b-d420-48ce-866d-b117bd95afc9",
    "outputId": "16426c52-e2b5-4c86-956d-8a77b330c7d7"
   },
   "outputs": [
    {
     "name": "stderr",
     "output_type": "stream",
     "text": [
      "2024-03-08 19:14:34.356396: E external/local_xla/xla/stream_executor/cuda/cuda_dnn.cc:9261] Unable to register cuDNN factory: Attempting to register factory for plugin cuDNN when one has already been registered\n",
      "2024-03-08 19:14:34.356477: E external/local_xla/xla/stream_executor/cuda/cuda_fft.cc:607] Unable to register cuFFT factory: Attempting to register factory for plugin cuFFT when one has already been registered\n",
      "2024-03-08 19:14:34.459501: E external/local_xla/xla/stream_executor/cuda/cuda_blas.cc:1515] Unable to register cuBLAS factory: Attempting to register factory for plugin cuBLAS when one has already been registered\n",
      "2024-03-08 19:14:34.510771: I tensorflow/core/platform/cpu_feature_guard.cc:182] This TensorFlow binary is optimized to use available CPU instructions in performance-critical operations.\n",
      "To enable the following instructions: AVX2 FMA, in other operations, rebuild TensorFlow with the appropriate compiler flags.\n",
      "2024-03-08 19:14:39.644851: W tensorflow/compiler/tf2tensorrt/utils/py_utils.cc:38] TF-TRT Warning: Could not find TensorRT\n"
     ]
    },
    {
     "data": {
      "text/plain": [
       "'cuda'"
      ]
     },
     "execution_count": 2,
     "metadata": {},
     "output_type": "execute_result"
    }
   ],
   "source": [
    "import pandas as pd\n",
    "import gzip\n",
    "import torch\n",
    "from torch.utils.data import Dataset, DataLoader\n",
    "from transformers import AutoTokenizer, pipeline,  AutoModelForTokenClassification\n",
    "import pandas as pd\n",
    "from sklearn.model_selection import train_test_split\n",
    "import random\n",
    "from collections import Counter\n",
    "import matplotlib.pyplot as plt\n",
    "from tqdm.auto import tqdm\n",
    "from torch.nn.utils.rnn import pad_sequence\n",
    "from functools import partial\n",
    "from seqeval.scheme import IOB2\n",
    "\n",
    "device = \"cuda\" if torch.cuda.is_available() else \"cpu\"\n",
    "device"
   ]
  },
  {
   "cell_type": "code",
   "execution_count": 3,
   "id": "a6fa05a5-f8fe-4ad8-a641-3d4e1d22507c",
   "metadata": {
    "colab": {
     "base_uri": "https://localhost:8080/"
    },
    "id": "a6fa05a5-f8fe-4ad8-a641-3d4e1d22507c",
    "outputId": "422ccd3a-9239-42a4-9652-c3a5269e1c3c"
   },
   "outputs": [
    {
     "data": {
      "text/plain": [
       "{'O': 0,\n",
       " 'I-ORG': 1,\n",
       " 'I-PER': 2,\n",
       " 'I-LOC': 3,\n",
       " 'B-ORG': 4,\n",
       " 'B-PER': 5,\n",
       " 'B-LOC': 6}"
      ]
     },
     "execution_count": 3,
     "metadata": {},
     "output_type": "execute_result"
    }
   ],
   "source": [
    "id2label = {0: 'O',1: 'I-ORG', 2: 'I-PER', 3: 'I-LOC', 4: 'B-ORG', 5: 'B-PER', 6: 'B-LOC'}\n",
    "label2id = {v:i for i,v in id2label.items()}\n",
    "label2id"
   ]
  },
  {
   "cell_type": "markdown",
   "id": "94031e00-87d4-486c-b063-a2061e121ab0",
   "metadata": {
    "id": "94031e00-87d4-486c-b063-a2061e121ab0"
   },
   "source": [
    "# Load Data"
   ]
  },
  {
   "cell_type": "code",
   "execution_count": 29,
   "id": "0abe3bb4-647c-40ae-a345-a82b542d25bd",
   "metadata": {
    "id": "0abe3bb4-647c-40ae-a345-a82b542d25bd"
   },
   "outputs": [],
   "source": [
    "def read_and_combine_datasets(fpaths):\n",
    "    \"\"\"\n",
    "    Read and combine datasets from given file paths.\n",
    "\n",
    "    Args:\n",
    "        fpaths (list of str): List of file paths.\n",
    "\n",
    "    Returns:\n",
    "        combined_df (DataFrame): Combined dataset.\n",
    "    \"\"\"\n",
    "    combined_data = []\n",
    "    for fpath in fpaths:\n",
    "        with gzip.open(fpath, 'rt', encoding='utf-8') as f:\n",
    "            _data = [[line.split('\\t') for line in block.split('\\n') if line.strip()] for block in f.read().split('\\n\\n')]\n",
    "            combined_data.extend([([token for token, label in sentence], [label for token, label in sentence]) for sentence in _data])\n",
    "    return pd.DataFrame(combined_data, columns=[\"sentence\", \"label\"])\n",
    "\n",
    "def stratified_split_train_set(train_df, test_size=0.2, random_state=42):\n",
    "    \"\"\"\n",
    "    Perform a stratified split on the training set.\n",
    "\n",
    "    Args:\n",
    "        train_df (DataFrame): Training dataset.\n",
    "        test_size (float): Proportion of the dataset to include in the test split.\n",
    "        random_state (int): Controls the shuffling applied to the data before applying the split.\n",
    "\n",
    "    Returns:\n",
    "        X_train, X_test, y_train, y_test: Split datasets.\n",
    "    \"\"\"\n",
    "    # Stratify by labels to maintain distribution\n",
    "    strats= list(pd.cut(train_df[\"sentence\"].apply(len), bins=[0, 5, 10, 15, 20, 25, 30, 55, 70, 100],\n",
    "                                                                    labels=['0-5', '5-10', '10-15', '15-20', '20-25', '25-30', '30-55', '50-80', '80-100']).values)\n",
    "    return train_test_split(train_df[\"sentence\"], train_df[\"label\"], test_size=test_size, random_state=random_state, stratify=strats)\n",
    "\n",
    "\n",
    "def analyze_dataset(dataset, labels):\n",
    "    num_examples = len(dataset)\n",
    "    num_tokens = sum(len(text) for text in dataset)\n",
    "    named_entities = dict(Counter(ent for label in labels for ent in label).most_common())\n",
    "    total_unique_words = len(set(word for sentence in dataset for word in sentence))\n",
    "    return \"Len: \"+ str(num_examples),  \"Tokens: \"+str(num_tokens), \"Unique: \"+str(total_unique_words), \"Entities: \"+ str(named_entities)\n",
    "\n",
    "\n",
    "def combine_and_split_datasets(train_langs=[\"en\", \"it\", \"af\", \"sw\", \"de\"], data_dir=\"/fp/projects01/ec30/IN5550/obligatories/2/data\"):\n",
    "    \"\"\"\n",
    "    Combine, split datasets based on specified languages, and prepare training and validation sets.\n",
    "\n",
    "    Args:\n",
    "        train_langs (list of str): Languages for training data.\n",
    "        val_langs (list of str): Languages for validation data.\n",
    "        data_dir (str): Directory where the datasets are stored.\n",
    "\n",
    "    Returns:\n",
    "        training_set, X_train, X_test, y_train, y_test, validation_set: Prepared datasets.\n",
    "    \"\"\"\n",
    "    # Combine training datasets\n",
    "    train_paths = [f\"{data_dir}/train-{lang}.tsv.gz\" for lang in train_langs]\n",
    "    training_set = read_and_combine_datasets(train_paths)\n",
    "\n",
    "    # Stratified split on training set\n",
    "    _X_train, _X_val, _y_train, _y_val = stratified_split_train_set(training_set)\n",
    "    print(\"Train Language(s):\", train_langs)\n",
    "    print(\"Train Set:\", analyze_dataset(_X_train,_y_train ))\n",
    "    print(\"Val Set:\",  analyze_dataset(_X_val, _y_val))\n",
    "\n",
    "    return list(_X_train), list(_X_val) , list(_y_train), list(_y_val)\n",
    "\n",
    "def getTestDatasets(val_langs=[\"en\"], data_dir=\"/fp/projects01/ec30/IN5550/obligatories/2/data\"):\n",
    "    all_set ={}\n",
    "    for lang in val_langs:\n",
    "        val_set = read_and_combine_datasets([f\"{data_dir}/dev-{lang}.tsv.gz\"])\n",
    "        _X_test,_y_test  = list(val_set[\"sentence\"]), list(val_set[\"label\"])\n",
    "        print(f\"Test Set({lang}):\",  analyze_dataset(_X_test,_y_test))\n",
    "        all_set[lang] = _X_test,_y_test\n",
    "    return all_set"
   ]
  },
  {
   "cell_type": "code",
   "execution_count": 30,
   "id": "4c850424-46f4-4006-b4c7-6be5d8b4f58e",
   "metadata": {
    "id": "4c850424-46f4-4006-b4c7-6be5d8b4f58e"
   },
   "outputs": [],
   "source": [
    "class NERDataset(Dataset):\n",
    "    def __init__(self, texts, labels, tokenizer, label2id):\n",
    "        self.texts = texts\n",
    "        self.labels = labels\n",
    "        self.tokenizer = tokenizer\n",
    "        self.label2id = label2id\n",
    "        self.max_length = tokenizer.model_max_length\n",
    "\n",
    "    def __len__(self):\n",
    "        return len(self.texts)\n",
    "\n",
    "    def __getitem__(self, idx):\n",
    "        text = self.texts[idx]\n",
    "        word_labels = self.labels[idx]\n",
    "\n",
    "        tokenized_inputs = self.tokenizer(text, is_split_into_words=True, padding='max_length', truncation=True, max_length=self.max_length, return_tensors=\"pt\", add_special_tokens=True)\n",
    "\n",
    "        input_ids = tokenized_inputs['input_ids'].squeeze()\n",
    "        attention_mask = tokenized_inputs['attention_mask'].squeeze()\n",
    "\n",
    "        labels = []\n",
    "        word_ids = tokenized_inputs.word_ids(batch_index=0)  # Get word_ids for the current sequence\n",
    "        previous_word_idx = None\n",
    "        for word_idx in word_ids:\n",
    "            if word_idx is None:  # Special tokens\n",
    "                labels.append(-100)  # PyTorch's convention to ignore these labels during loss calculation\n",
    "            elif word_idx != previous_word_idx:  # New word\n",
    "                labels.append(self.label2id[word_labels[word_idx]])\n",
    "            else:  # Subtoken of the previous word\n",
    "                labels.append(self.label2id[word_labels[word_idx]])\n",
    "            previous_word_idx = word_idx\n",
    "\n",
    "        label_tensor = torch.LongTensor(labels)\n",
    "        return input_ids, attention_mask, label_tensor"
   ]
  },
  {
   "cell_type": "code",
   "execution_count": 31,
   "id": "nQK0gVzNwWrq",
   "metadata": {
    "id": "nQK0gVzNwWrq"
   },
   "outputs": [],
   "source": [
    "def collate_fn(batch, pad_token_id):\n",
    "    input_ids, attention_masks, labels = zip(*batch)\n",
    "\n",
    "    # Pad sequences so they match the longest sequence in the batch\n",
    "    input_ids_padded = pad_sequence(input_ids, batch_first=True, padding_value=pad_token_id)\n",
    "    attention_masks_padded = pad_sequence(attention_masks, batch_first=True, padding_value=0)\n",
    "\n",
    "    # Assuming labels are already tensors. If not, you might need to convert or pad them here\n",
    "    labels_padded = pad_sequence(labels, batch_first=True, padding_value=-100) # Use -100 for ignored index in CrossEntropyLoss\n",
    "\n",
    "    return input_ids_padded.to(device), attention_masks_padded.to(device), labels_padded.to(device)"
   ]
  },
  {
   "cell_type": "code",
   "execution_count": 32,
   "id": "cqjRfYj3EzvQ",
   "metadata": {
    "id": "cqjRfYj3EzvQ"
   },
   "outputs": [],
   "source": [
    "from seqeval.metrics import classification_report, f1_score\n",
    "import matplotlib.pyplot as plt\n",
    "from tqdm.auto import tqdm\n",
    "import torch\n",
    "\n",
    "def validate(model, data_loader, evaluate=False,lang=\"en\"):\n",
    "    model.eval()\n",
    "    total_loss = 0\n",
    "    predictions = []\n",
    "    true_labels = []\n",
    "    with torch.no_grad():\n",
    "        for batch in data_loader:\n",
    "            input_ids, atn_mask, labels = batch\n",
    "            outputs = model(input_ids=input_ids, attention_mask=atn_mask, labels=labels)\n",
    "            loss = outputs.loss\n",
    "            total_loss += loss.item()\n",
    "            prediction = outputs.logits.argmax(dim=2).cpu().numpy()\n",
    "            \n",
    "            cropped_predictions = [pred[1:len(mask) - 1 - mask.flip(dims=[0]).argmax()] for pred, mask in zip(prediction, atn_mask)]\n",
    "            cropped_true_labels = [true[1:len(mask) - 1 - mask.flip(dims=[0]).argmax()] for true, mask in zip(labels.cpu().numpy(), atn_mask)]\n",
    "\n",
    "            predictions.extend(cropped_predictions)\n",
    "            true_labels.extend(cropped_true_labels)\n",
    "\n",
    "    avg_loss = total_loss / len(data_loader)\n",
    "\n",
    "    # Convert predictions and true labels to tag sequences\n",
    "    id2label = {v: k for k, v in label2id.items()}\n",
    "    pred_tags = [[id2label[tag_id] for tag_id in seq] for seq in predictions]\n",
    "    true_tags = [[id2label[tag_id] if tag_id in id2label else '-100' for tag_id in seq] for seq in true_labels]\n",
    "    f1_score_ = f1_score(true_tags, pred_tags)\n",
    "    if evaluate:\n",
    "        print(f\"LANG [{lang}]: F1-score (Token-level) : {f1_score_:.3f}\")\n",
    "        print(f'Test Loss: {avg_loss} \\n Test Evaluation (strict IOB2):')\n",
    "        print(classification_report(true_tags, pred_tags, zero_division=0, mode='strict', scheme=IOB2, digits=3))\n",
    "    return avg_loss, true_tags, pred_tags, f1_score_\n",
    "\n",
    "\n",
    "def plot_loss(train_losses, val_losses, f1_scores):\n",
    "    plt.plot(range(1, len(train_losses) + 1), train_losses, marker='o', label='Train Loss')\n",
    "    plt.plot(range(1, len(val_losses) + 1), val_losses, marker='o', label='Validation Loss')\n",
    "    plt.plot(range(1, len(f1_scores) + 1), f1_scores, marker='.', label='Val. F1 Score')\n",
    "    plt.xlabel('Epoch')\n",
    "    plt.ylabel('Loss')\n",
    "    plt.title('Training and Validation Loss Curve')\n",
    "    plt.legend()\n",
    "    plt.show()\n",
    "\n",
    "\n",
    "def train(model, train_loader, val_loader, epochs=3, lr=5e-5, early_stopping_patience=3, finetune=False):\n",
    "    model.requires_grad_(finetune)\n",
    "    model.classifier.requires_grad_(True)\n",
    "    model.train()\n",
    "    print(\"Trainable parameters: \", format(sum(p.numel() for p in model.parameters() if p.requires_grad), \",\"))\n",
    "\n",
    "    optimizer = torch.optim.AdamW(model.parameters(), lr=lr)\n",
    "    scheduler = torch.optim.lr_scheduler.ReduceLROnPlateau(optimizer, 'min', patience=3, factor=0.1)\n",
    "\n",
    "    train_losses = []\n",
    "    val_losses = []\n",
    "    val_f1s =[]\n",
    "    \n",
    "    best_val_loss, best_epoch = float('inf'), 0\n",
    "    epochs_without_improvement = 0\n",
    "    best_model_state_dict = None\n",
    "\n",
    "    for epoch in range(epochs):\n",
    "        total_train_loss = 0\n",
    "\n",
    "        # Training\n",
    "        progress_bar = tqdm(train_loader, desc=f'Epoch {epoch + 1}/{epochs}', leave=False)\n",
    "        for batch in progress_bar:\n",
    "            model.train()\n",
    "            input_ids, atn_mask, labels = batch\n",
    "            optimizer.zero_grad()\n",
    "            outputs = model(input_ids=input_ids, attention_mask=atn_mask, labels=labels)\n",
    "            loss = outputs.loss\n",
    "            loss.backward()\n",
    "            optimizer.step()\n",
    "            total_train_loss += loss.item()\n",
    "            progress_bar.set_postfix({'train_loss': loss.item()})\n",
    "        train_losses.append(total_train_loss / len(train_loader))\n",
    "\n",
    "        # Validation\n",
    "        val_loss, true_tags, pred_tags, f1_score = validate(model, val_loader)\n",
    "        val_f1s.append(f1_score)\n",
    "        val_losses.append(val_loss)\n",
    "        print(f'Epoch {epoch + 1}/{epochs}, train_loss : {loss.item():.4f}, val_loss: {val_loss:.4f}, val_f1: {f1_score:.4f}')\n",
    "        scheduler.step(val_loss)\n",
    "        # Early stopping\n",
    "        if val_loss < best_val_loss:\n",
    "            best_val_loss, best_epoch = val_loss, epoch\n",
    "            epochs_without_improvement = 0\n",
    "            best_model_state_dict = model.state_dict()\n",
    "        else:\n",
    "            epochs_without_improvement += 1\n",
    "            if epochs_without_improvement >= early_stopping_patience:\n",
    "                print(f'Early stopping at epoch {epoch + 1} as validation loss has not decreased for {early_stopping_patience} epochs since epoch-{best_epoch+1}.')\n",
    "                break\n",
    "\n",
    "    # Load the best model state\n",
    "    model.load_state_dict(best_model_state_dict)\n",
    "\n",
    "    plot_loss(train_losses, val_losses,val_f1s )\n",
    "    return model"
   ]
  },
  {
   "cell_type": "code",
   "execution_count": 33,
   "id": "058fd2f1-a725-4991-be99-55a9a6ed4110",
   "metadata": {},
   "outputs": [],
   "source": [
    "from torch.utils.data import DataLoader\n",
    "from functools import partial\n",
    "\n",
    "def train_test(train_langs, val_langs, model_path, epochs=50, lr=1e-5, bs=128, finetune=True, model_max_length=128):\n",
    "    tokenizer = AutoTokenizer.from_pretrained(model_path, model_max_length=model_max_length)\n",
    "    model = AutoModelForTokenClassification.from_pretrained(model_path, num_labels=len(label2id)).to(device)\n",
    "\n",
    "    X_train, X_val, y_train, y_val = combine_and_split_datasets(train_langs)\n",
    "    train_loader = DataLoader(NERDataset(X_train, y_train, tokenizer, label2id), batch_size=bs, shuffle=True, collate_fn=partial(collate_fn, pad_token_id=tokenizer.pad_token_id))\n",
    "    val_loader = DataLoader(NERDataset(X_val, y_val, tokenizer, label2id), batch_size=bs, shuffle=False, collate_fn=partial(collate_fn, pad_token_id=tokenizer.pad_token_id))\n",
    "    model = train(model, train_loader, val_loader, epochs=epochs, lr=lr, finetune=finetune)\n",
    "\n",
    "    for lang, data in getTestDatasets(val_langs=val_langs).items():\n",
    "        X_test, y_test = data\n",
    "        test_loader = DataLoader(NERDataset(X_test, y_test, tokenizer, label2id), batch_size=bs, shuffle=False, collate_fn=partial(collate_fn, pad_token_id=tokenizer.pad_token_id))\n",
    "        test_loss, true_tags, pred_tags, _ = validate(model, test_loader, evaluate=True, lang=lang)\n",
    "# train_test([\"en\"], [\"en\", \"de\"], model_path = \"/fp/projects01/ec30/models/xlm-roberta-base/\")"
   ]
  },
  {
   "cell_type": "markdown",
   "id": "b50eb597-87bc-4f5c-9d69-29f26177e275",
   "metadata": {},
   "source": [
    "# Part 1: Finetuning Multilingual Transformers on English)"
   ]
  },
  {
   "cell_type": "markdown",
   "id": "15f07c7b-2e33-4bb1-b051-470ae7a90377",
   "metadata": {},
   "source": [
    "## 1A: Different Language Models"
   ]
  },
  {
   "cell_type": "code",
   "execution_count": 9,
   "id": "8dcb1039-fa64-4afe-b0f7-ee254250d0de",
   "metadata": {},
   "outputs": [
    {
     "name": "stderr",
     "output_type": "stream",
     "text": [
      "Some weights of XLMRobertaForTokenClassification were not initialized from the model checkpoint at /fp/projects01/ec30/models/xlm-roberta-base/ and are newly initialized: ['classifier.weight', 'classifier.bias']\n",
      "You should probably TRAIN this model on a down-stream task to be able to use it for predictions and inference.\n"
     ]
    },
    {
     "name": "stdout",
     "output_type": "stream",
     "text": [
      "Train Language(s): ['en']\n",
      "Train Set: ('Len: 16000', 'Tokens: 128429', 'Unique: 28681', \"Entities: {'O': 65017, 'I-ORG': 18842, 'I-PER': 11628, 'I-LOC': 10530, 'B-ORG': 7623, 'B-LOC': 7536, 'B-PER': 7253}\")\n",
      "Val Set: ('Len: 4000', 'Tokens: 31965', 'Unique: 10319', \"Entities: {'O': 16345, 'I-ORG': 4384, 'I-PER': 3070, 'I-LOC': 2647, 'B-PER': 1911, 'B-LOC': 1809, 'B-ORG': 1799}\")\n",
      "Trainable parameters:  277,458,439\n"
     ]
    },
    {
     "data": {
      "application/vnd.jupyter.widget-view+json": {
       "model_id": "",
       "version_major": 2,
       "version_minor": 0
      },
      "text/plain": [
       "Epoch 1/50:   0%|          | 0/125 [00:00<?, ?it/s]"
      ]
     },
     "metadata": {},
     "output_type": "display_data"
    },
    {
     "name": "stdout",
     "output_type": "stream",
     "text": [
      "Epoch 1/50, train_loss : 0.5807, val_loss: 0.4420, val_f1: 0.6958\n"
     ]
    },
    {
     "data": {
      "application/vnd.jupyter.widget-view+json": {
       "model_id": "",
       "version_major": 2,
       "version_minor": 0
      },
      "text/plain": [
       "Epoch 2/50:   0%|          | 0/125 [00:00<?, ?it/s]"
      ]
     },
     "metadata": {},
     "output_type": "display_data"
    },
    {
     "name": "stdout",
     "output_type": "stream",
     "text": [
      "Epoch 2/50, train_loss : 0.3698, val_loss: 0.3466, val_f1: 0.7679\n"
     ]
    },
    {
     "data": {
      "application/vnd.jupyter.widget-view+json": {
       "model_id": "",
       "version_major": 2,
       "version_minor": 0
      },
      "text/plain": [
       "Epoch 3/50:   0%|          | 0/125 [00:00<?, ?it/s]"
      ]
     },
     "metadata": {},
     "output_type": "display_data"
    },
    {
     "name": "stdout",
     "output_type": "stream",
     "text": [
      "Epoch 3/50, train_loss : 0.3416, val_loss: 0.3172, val_f1: 0.7881\n"
     ]
    },
    {
     "data": {
      "application/vnd.jupyter.widget-view+json": {
       "model_id": "",
       "version_major": 2,
       "version_minor": 0
      },
      "text/plain": [
       "Epoch 4/50:   0%|          | 0/125 [00:00<?, ?it/s]"
      ]
     },
     "metadata": {},
     "output_type": "display_data"
    },
    {
     "name": "stdout",
     "output_type": "stream",
     "text": [
      "Epoch 4/50, train_loss : 0.3268, val_loss: 0.3051, val_f1: 0.7987\n"
     ]
    },
    {
     "data": {
      "application/vnd.jupyter.widget-view+json": {
       "model_id": "",
       "version_major": 2,
       "version_minor": 0
      },
      "text/plain": [
       "Epoch 5/50:   0%|          | 0/125 [00:00<?, ?it/s]"
      ]
     },
     "metadata": {},
     "output_type": "display_data"
    },
    {
     "name": "stdout",
     "output_type": "stream",
     "text": [
      "Epoch 5/50, train_loss : 0.2112, val_loss: 0.3013, val_f1: 0.8041\n"
     ]
    },
    {
     "data": {
      "application/vnd.jupyter.widget-view+json": {
       "model_id": "",
       "version_major": 2,
       "version_minor": 0
      },
      "text/plain": [
       "Epoch 6/50:   0%|          | 0/125 [00:00<?, ?it/s]"
      ]
     },
     "metadata": {},
     "output_type": "display_data"
    },
    {
     "name": "stdout",
     "output_type": "stream",
     "text": [
      "Epoch 6/50, train_loss : 0.2020, val_loss: 0.2962, val_f1: 0.8051\n"
     ]
    },
    {
     "data": {
      "application/vnd.jupyter.widget-view+json": {
       "model_id": "",
       "version_major": 2,
       "version_minor": 0
      },
      "text/plain": [
       "Epoch 7/50:   0%|          | 0/125 [00:00<?, ?it/s]"
      ]
     },
     "metadata": {},
     "output_type": "display_data"
    },
    {
     "name": "stdout",
     "output_type": "stream",
     "text": [
      "Epoch 7/50, train_loss : 0.2318, val_loss: 0.2958, val_f1: 0.8141\n"
     ]
    },
    {
     "data": {
      "application/vnd.jupyter.widget-view+json": {
       "model_id": "",
       "version_major": 2,
       "version_minor": 0
      },
      "text/plain": [
       "Epoch 8/50:   0%|          | 0/125 [00:00<?, ?it/s]"
      ]
     },
     "metadata": {},
     "output_type": "display_data"
    },
    {
     "name": "stdout",
     "output_type": "stream",
     "text": [
      "Epoch 8/50, train_loss : 0.2071, val_loss: 0.2902, val_f1: 0.8157\n"
     ]
    },
    {
     "data": {
      "application/vnd.jupyter.widget-view+json": {
       "model_id": "",
       "version_major": 2,
       "version_minor": 0
      },
      "text/plain": [
       "Epoch 9/50:   0%|          | 0/125 [00:00<?, ?it/s]"
      ]
     },
     "metadata": {},
     "output_type": "display_data"
    },
    {
     "name": "stdout",
     "output_type": "stream",
     "text": [
      "Epoch 9/50, train_loss : 0.1165, val_loss: 0.2938, val_f1: 0.8161\n"
     ]
    },
    {
     "data": {
      "application/vnd.jupyter.widget-view+json": {
       "model_id": "",
       "version_major": 2,
       "version_minor": 0
      },
      "text/plain": [
       "Epoch 10/50:   0%|          | 0/125 [00:00<?, ?it/s]"
      ]
     },
     "metadata": {},
     "output_type": "display_data"
    },
    {
     "name": "stdout",
     "output_type": "stream",
     "text": [
      "Epoch 10/50, train_loss : 0.2130, val_loss: 0.2984, val_f1: 0.8176\n"
     ]
    },
    {
     "data": {
      "application/vnd.jupyter.widget-view+json": {
       "model_id": "",
       "version_major": 2,
       "version_minor": 0
      },
      "text/plain": [
       "Epoch 11/50:   0%|          | 0/125 [00:00<?, ?it/s]"
      ]
     },
     "metadata": {},
     "output_type": "display_data"
    },
    {
     "name": "stdout",
     "output_type": "stream",
     "text": [
      "Epoch 11/50, train_loss : 0.1701, val_loss: 0.3004, val_f1: 0.8225\n",
      "Early stopping at epoch 11 as validation loss has not decreased for 3 epochs since epoch-8.\n"
     ]
    },
    {
     "data": {
      "image/png": "[encoded data removed]",
      "text/plain": [
       "<Figure size 640x480 with 1 Axes>"
      ]
     },
     "metadata": {},
     "output_type": "display_data"
    },
    {
     "name": "stdout",
     "output_type": "stream",
     "text": [
      "Test Set(en): ('Len: 10000', 'Tokens: 80536', 'Unique: 20222', \"Entities: {'O': 40875, 'I-ORG': 11638, 'I-PER': 7520, 'I-LOC': 6357, 'B-LOC': 4834, 'B-ORG': 4677, 'B-PER': 4635}\")\n",
      "LANG [en]: F1-score (Token-level) : 0.821\n",
      "Test Loss: 0.2951150661027884 \n",
      " Test Evaluation (strict IOB2):\n",
      "              precision    recall  f1-score   support\n",
      "\n",
      "         LOC      0.855     0.865     0.860      9582\n",
      "         ORG      0.763     0.734     0.748      7934\n",
      "         PER      0.871     0.885     0.878      7021\n",
      "\n",
      "   micro avg      0.831     0.829     0.830     24537\n",
      "   macro avg      0.830     0.828     0.829     24537\n",
      "weighted avg      0.830     0.829     0.829     24537\n",
      "\n"
     ]
    }
   ],
   "source": [
    "train_test([\"en\"], [\"en\"], model_path = \"/fp/projects01/ec30/models/xlm-roberta-base/\")"
   ]
  },
  {
   "cell_type": "code",
   "execution_count": 10,
   "id": "4f0b3140-1ecf-4f63-b4bf-a640785684fd",
   "metadata": {},
   "outputs": [
    {
     "name": "stderr",
     "output_type": "stream",
     "text": [
      "Some weights of BertForTokenClassification were not initialized from the model checkpoint at /fp/projects01/ec30/models/bert-base-multilingual-cased/ and are newly initialized: ['classifier.weight', 'classifier.bias']\n",
      "You should probably TRAIN this model on a down-stream task to be able to use it for predictions and inference.\n"
     ]
    },
    {
     "name": "stdout",
     "output_type": "stream",
     "text": [
      "Train Language(s): ['en']\n",
      "Train Set: ('Len: 16000', 'Tokens: 128429', 'Unique: 28681', \"Entities: {'O': 65017, 'I-ORG': 18842, 'I-PER': 11628, 'I-LOC': 10530, 'B-ORG': 7623, 'B-LOC': 7536, 'B-PER': 7253}\")\n",
      "Val Set: ('Len: 4000', 'Tokens: 31965', 'Unique: 10319', \"Entities: {'O': 16345, 'I-ORG': 4384, 'I-PER': 3070, 'I-LOC': 2647, 'B-PER': 1911, 'B-LOC': 1809, 'B-ORG': 1799}\")\n",
      "Trainable parameters:  177,268,231\n"
     ]
    },
    {
     "data": {
      "application/vnd.jupyter.widget-view+json": {
       "model_id": "",
       "version_major": 2,
       "version_minor": 0
      },
      "text/plain": [
       "Epoch 1/50:   0%|          | 0/125 [00:00<?, ?it/s]"
      ]
     },
     "metadata": {},
     "output_type": "display_data"
    },
    {
     "name": "stdout",
     "output_type": "stream",
     "text": [
      "Epoch 1/50, train_loss : 0.3781, val_loss: 0.3505, val_f1: 0.7296\n"
     ]
    },
    {
     "data": {
      "application/vnd.jupyter.widget-view+json": {
       "model_id": "",
       "version_major": 2,
       "version_minor": 0
      },
      "text/plain": [
       "Epoch 2/50:   0%|          | 0/125 [00:00<?, ?it/s]"
      ]
     },
     "metadata": {},
     "output_type": "display_data"
    },
    {
     "name": "stdout",
     "output_type": "stream",
     "text": [
      "Epoch 2/50, train_loss : 0.2856, val_loss: 0.2899, val_f1: 0.7945\n"
     ]
    },
    {
     "data": {
      "application/vnd.jupyter.widget-view+json": {
       "model_id": "",
       "version_major": 2,
       "version_minor": 0
      },
      "text/plain": [
       "Epoch 3/50:   0%|          | 0/125 [00:00<?, ?it/s]"
      ]
     },
     "metadata": {},
     "output_type": "display_data"
    },
    {
     "name": "stdout",
     "output_type": "stream",
     "text": [
      "Epoch 3/50, train_loss : 0.2619, val_loss: 0.2799, val_f1: 0.8100\n"
     ]
    },
    {
     "data": {
      "application/vnd.jupyter.widget-view+json": {
       "model_id": "",
       "version_major": 2,
       "version_minor": 0
      },
      "text/plain": [
       "Epoch 4/50:   0%|          | 0/125 [00:00<?, ?it/s]"
      ]
     },
     "metadata": {},
     "output_type": "display_data"
    },
    {
     "name": "stdout",
     "output_type": "stream",
     "text": [
      "Epoch 4/50, train_loss : 0.1730, val_loss: 0.2780, val_f1: 0.8148\n"
     ]
    },
    {
     "data": {
      "application/vnd.jupyter.widget-view+json": {
       "model_id": "",
       "version_major": 2,
       "version_minor": 0
      },
      "text/plain": [
       "Epoch 5/50:   0%|          | 0/125 [00:00<?, ?it/s]"
      ]
     },
     "metadata": {},
     "output_type": "display_data"
    },
    {
     "name": "stdout",
     "output_type": "stream",
     "text": [
      "Epoch 5/50, train_loss : 0.2252, val_loss: 0.2768, val_f1: 0.8271\n"
     ]
    },
    {
     "data": {
      "application/vnd.jupyter.widget-view+json": {
       "model_id": "",
       "version_major": 2,
       "version_minor": 0
      },
      "text/plain": [
       "Epoch 6/50:   0%|          | 0/125 [00:00<?, ?it/s]"
      ]
     },
     "metadata": {},
     "output_type": "display_data"
    },
    {
     "name": "stdout",
     "output_type": "stream",
     "text": [
      "Epoch 6/50, train_loss : 0.1744, val_loss: 0.2802, val_f1: 0.8224\n"
     ]
    },
    {
     "data": {
      "application/vnd.jupyter.widget-view+json": {
       "model_id": "",
       "version_major": 2,
       "version_minor": 0
      },
      "text/plain": [
       "Epoch 7/50:   0%|          | 0/125 [00:00<?, ?it/s]"
      ]
     },
     "metadata": {},
     "output_type": "display_data"
    },
    {
     "name": "stdout",
     "output_type": "stream",
     "text": [
      "Epoch 7/50, train_loss : 0.1176, val_loss: 0.2865, val_f1: 0.8219\n"
     ]
    },
    {
     "data": {
      "application/vnd.jupyter.widget-view+json": {
       "model_id": "",
       "version_major": 2,
       "version_minor": 0
      },
      "text/plain": [
       "Epoch 8/50:   0%|          | 0/125 [00:00<?, ?it/s]"
      ]
     },
     "metadata": {},
     "output_type": "display_data"
    },
    {
     "name": "stdout",
     "output_type": "stream",
     "text": [
      "Epoch 8/50, train_loss : 0.1300, val_loss: 0.2956, val_f1: 0.8232\n",
      "Early stopping at epoch 8 as validation loss has not decreased for 3 epochs since epoch-5.\n"
     ]
    },
    {
     "data": {
      "image/png": "[encoded data removed]",
      "text/plain": [
       "<Figure size 640x480 with 1 Axes>"
      ]
     },
     "metadata": {},
     "output_type": "display_data"
    },
    {
     "name": "stdout",
     "output_type": "stream",
     "text": [
      "Test Set(en): ('Len: 10000', 'Tokens: 80536', 'Unique: 20222', \"Entities: {'O': 40875, 'I-ORG': 11638, 'I-PER': 7520, 'I-LOC': 6357, 'B-LOC': 4834, 'B-ORG': 4677, 'B-PER': 4635}\")\n",
      "LANG [en]: F1-score (Token-level) : 0.828\n",
      "Test Loss: 0.2893840589478046 \n",
      " Test Evaluation (strict IOB2):\n",
      "              precision    recall  f1-score   support\n",
      "\n",
      "         LOC      0.860     0.886     0.873      8687\n",
      "         ORG      0.761     0.725     0.743      7203\n",
      "         PER      0.888     0.891     0.889      6259\n",
      "\n",
      "   micro avg      0.837     0.835     0.836     22149\n",
      "   macro avg      0.836     0.834     0.835     22149\n",
      "weighted avg      0.836     0.835     0.835     22149\n",
      "\n"
     ]
    }
   ],
   "source": [
    "train_test([\"en\"], [\"en\"], model_path = \"/fp/projects01/ec30/models/bert-base-multilingual-cased/\")"
   ]
  },
  {
   "cell_type": "code",
   "execution_count": 11,
   "id": "ffdd11e9-81ad-4e10-81b2-ed69e3e6c057",
   "metadata": {},
   "outputs": [],
   "source": [
    "#TODO custom model"
   ]
  },
  {
   "cell_type": "markdown",
   "id": "44bca664-bed7-45ff-b1be-73d20a6d44ef",
   "metadata": {},
   "source": [
    "## 1B: Finetuning and freezing"
   ]
  },
  {
   "cell_type": "code",
   "execution_count": 12,
   "id": "15807def-fd8a-449f-bb9d-5845664dce4e",
   "metadata": {},
   "outputs": [
    {
     "name": "stderr",
     "output_type": "stream",
     "text": [
      "Some weights of BertForTokenClassification were not initialized from the model checkpoint at /fp/projects01/ec30/models/bert-base-multilingual-cased/ and are newly initialized: ['classifier.weight', 'classifier.bias']\n",
      "You should probably TRAIN this model on a down-stream task to be able to use it for predictions and inference.\n"
     ]
    },
    {
     "name": "stdout",
     "output_type": "stream",
     "text": [
      "Train Language(s): ['en']\n",
      "Train Set: ('Len: 16000', 'Tokens: 128429', 'Unique: 28681', \"Entities: {'O': 65017, 'I-ORG': 18842, 'I-PER': 11628, 'I-LOC': 10530, 'B-ORG': 7623, 'B-LOC': 7536, 'B-PER': 7253}\")\n",
      "Val Set: ('Len: 4000', 'Tokens: 31965', 'Unique: 10319', \"Entities: {'O': 16345, 'I-ORG': 4384, 'I-PER': 3070, 'I-LOC': 2647, 'B-PER': 1911, 'B-LOC': 1809, 'B-ORG': 1799}\")\n",
      "Trainable parameters:  5,383\n"
     ]
    },
    {
     "data": {
      "application/vnd.jupyter.widget-view+json": {
       "model_id": "",
       "version_major": 2,
       "version_minor": 0
      },
      "text/plain": [
       "Epoch 1/50:   0%|          | 0/125 [00:00<?, ?it/s]"
      ]
     },
     "metadata": {},
     "output_type": "display_data"
    },
    {
     "name": "stdout",
     "output_type": "stream",
     "text": [
      "Epoch 1/50, train_loss : 0.7291, val_loss: 0.7169, val_f1: 0.4104\n"
     ]
    },
    {
     "data": {
      "application/vnd.jupyter.widget-view+json": {
       "model_id": "",
       "version_major": 2,
       "version_minor": 0
      },
      "text/plain": [
       "Epoch 2/50:   0%|          | 0/125 [00:00<?, ?it/s]"
      ]
     },
     "metadata": {},
     "output_type": "display_data"
    },
    {
     "name": "stdout",
     "output_type": "stream",
     "text": [
      "Epoch 2/50, train_loss : 0.6556, val_loss: 0.6098, val_f1: 0.4938\n"
     ]
    },
    {
     "data": {
      "application/vnd.jupyter.widget-view+json": {
       "model_id": "",
       "version_major": 2,
       "version_minor": 0
      },
      "text/plain": [
       "Epoch 3/50:   0%|          | 0/125 [00:00<?, ?it/s]"
      ]
     },
     "metadata": {},
     "output_type": "display_data"
    },
    {
     "name": "stdout",
     "output_type": "stream",
     "text": [
      "Epoch 3/50, train_loss : 0.6185, val_loss: 0.5653, val_f1: 0.5294\n"
     ]
    },
    {
     "data": {
      "application/vnd.jupyter.widget-view+json": {
       "model_id": "",
       "version_major": 2,
       "version_minor": 0
      },
      "text/plain": [
       "Epoch 4/50:   0%|          | 0/125 [00:00<?, ?it/s]"
      ]
     },
     "metadata": {},
     "output_type": "display_data"
    },
    {
     "name": "stdout",
     "output_type": "stream",
     "text": [
      "Epoch 4/50, train_loss : 0.6381, val_loss: 0.5414, val_f1: 0.5416\n"
     ]
    },
    {
     "data": {
      "application/vnd.jupyter.widget-view+json": {
       "model_id": "",
       "version_major": 2,
       "version_minor": 0
      },
      "text/plain": [
       "Epoch 5/50:   0%|          | 0/125 [00:00<?, ?it/s]"
      ]
     },
     "metadata": {},
     "output_type": "display_data"
    },
    {
     "name": "stdout",
     "output_type": "stream",
     "text": [
      "Epoch 5/50, train_loss : 0.6397, val_loss: 0.5278, val_f1: 0.5522\n"
     ]
    },
    {
     "data": {
      "application/vnd.jupyter.widget-view+json": {
       "model_id": "",
       "version_major": 2,
       "version_minor": 0
      },
      "text/plain": [
       "Epoch 6/50:   0%|          | 0/125 [00:00<?, ?it/s]"
      ]
     },
     "metadata": {},
     "output_type": "display_data"
    },
    {
     "name": "stdout",
     "output_type": "stream",
     "text": [
      "Epoch 6/50, train_loss : 0.5526, val_loss: 0.5166, val_f1: 0.5616\n"
     ]
    },
    {
     "data": {
      "application/vnd.jupyter.widget-view+json": {
       "model_id": "",
       "version_major": 2,
       "version_minor": 0
      },
      "text/plain": [
       "Epoch 7/50:   0%|          | 0/125 [00:00<?, ?it/s]"
      ]
     },
     "metadata": {},
     "output_type": "display_data"
    },
    {
     "name": "stdout",
     "output_type": "stream",
     "text": [
      "Epoch 7/50, train_loss : 0.5785, val_loss: 0.5092, val_f1: 0.5654\n"
     ]
    },
    {
     "data": {
      "application/vnd.jupyter.widget-view+json": {
       "model_id": "",
       "version_major": 2,
       "version_minor": 0
      },
      "text/plain": [
       "Epoch 8/50:   0%|          | 0/125 [00:00<?, ?it/s]"
      ]
     },
     "metadata": {},
     "output_type": "display_data"
    },
    {
     "name": "stdout",
     "output_type": "stream",
     "text": [
      "Epoch 8/50, train_loss : 0.5481, val_loss: 0.5023, val_f1: 0.5746\n"
     ]
    },
    {
     "data": {
      "application/vnd.jupyter.widget-view+json": {
       "model_id": "",
       "version_major": 2,
       "version_minor": 0
      },
      "text/plain": [
       "Epoch 9/50:   0%|          | 0/125 [00:00<?, ?it/s]"
      ]
     },
     "metadata": {},
     "output_type": "display_data"
    },
    {
     "name": "stdout",
     "output_type": "stream",
     "text": [
      "Epoch 9/50, train_loss : 0.6130, val_loss: 0.4970, val_f1: 0.5743\n"
     ]
    },
    {
     "data": {
      "application/vnd.jupyter.widget-view+json": {
       "model_id": "",
       "version_major": 2,
       "version_minor": 0
      },
      "text/plain": [
       "Epoch 10/50:   0%|          | 0/125 [00:00<?, ?it/s]"
      ]
     },
     "metadata": {},
     "output_type": "display_data"
    },
    {
     "name": "stdout",
     "output_type": "stream",
     "text": [
      "Epoch 10/50, train_loss : 0.5757, val_loss: 0.4976, val_f1: 0.5732\n"
     ]
    },
    {
     "data": {
      "application/vnd.jupyter.widget-view+json": {
       "model_id": "",
       "version_major": 2,
       "version_minor": 0
      },
      "text/plain": [
       "Epoch 11/50:   0%|          | 0/125 [00:00<?, ?it/s]"
      ]
     },
     "metadata": {},
     "output_type": "display_data"
    },
    {
     "name": "stdout",
     "output_type": "stream",
     "text": [
      "Epoch 11/50, train_loss : 0.5646, val_loss: 0.4920, val_f1: 0.5780\n"
     ]
    },
    {
     "data": {
      "application/vnd.jupyter.widget-view+json": {
       "model_id": "",
       "version_major": 2,
       "version_minor": 0
      },
      "text/plain": [
       "Epoch 12/50:   0%|          | 0/125 [00:00<?, ?it/s]"
      ]
     },
     "metadata": {},
     "output_type": "display_data"
    },
    {
     "name": "stdout",
     "output_type": "stream",
     "text": [
      "Epoch 12/50, train_loss : 0.5553, val_loss: 0.4898, val_f1: 0.5778\n"
     ]
    },
    {
     "data": {
      "application/vnd.jupyter.widget-view+json": {
       "model_id": "",
       "version_major": 2,
       "version_minor": 0
      },
      "text/plain": [
       "Epoch 13/50:   0%|          | 0/125 [00:00<?, ?it/s]"
      ]
     },
     "metadata": {},
     "output_type": "display_data"
    },
    {
     "name": "stdout",
     "output_type": "stream",
     "text": [
      "Epoch 13/50, train_loss : 0.5514, val_loss: 0.4859, val_f1: 0.5819\n"
     ]
    },
    {
     "data": {
      "application/vnd.jupyter.widget-view+json": {
       "model_id": "",
       "version_major": 2,
       "version_minor": 0
      },
      "text/plain": [
       "Epoch 14/50:   0%|          | 0/125 [00:00<?, ?it/s]"
      ]
     },
     "metadata": {},
     "output_type": "display_data"
    },
    {
     "name": "stdout",
     "output_type": "stream",
     "text": [
      "Epoch 14/50, train_loss : 0.5884, val_loss: 0.4867, val_f1: 0.5809\n"
     ]
    },
    {
     "data": {
      "application/vnd.jupyter.widget-view+json": {
       "model_id": "",
       "version_major": 2,
       "version_minor": 0
      },
      "text/plain": [
       "Epoch 15/50:   0%|          | 0/125 [00:00<?, ?it/s]"
      ]
     },
     "metadata": {},
     "output_type": "display_data"
    },
    {
     "name": "stdout",
     "output_type": "stream",
     "text": [
      "Epoch 15/50, train_loss : 0.5596, val_loss: 0.4833, val_f1: 0.5840\n"
     ]
    },
    {
     "data": {
      "application/vnd.jupyter.widget-view+json": {
       "model_id": "",
       "version_major": 2,
       "version_minor": 0
      },
      "text/plain": [
       "Epoch 16/50:   0%|          | 0/125 [00:00<?, ?it/s]"
      ]
     },
     "metadata": {},
     "output_type": "display_data"
    },
    {
     "name": "stdout",
     "output_type": "stream",
     "text": [
      "Epoch 16/50, train_loss : 0.7072, val_loss: 0.4802, val_f1: 0.5841\n"
     ]
    },
    {
     "data": {
      "application/vnd.jupyter.widget-view+json": {
       "model_id": "",
       "version_major": 2,
       "version_minor": 0
      },
      "text/plain": [
       "Epoch 17/50:   0%|          | 0/125 [00:00<?, ?it/s]"
      ]
     },
     "metadata": {},
     "output_type": "display_data"
    },
    {
     "name": "stdout",
     "output_type": "stream",
     "text": [
      "Epoch 17/50, train_loss : 0.5630, val_loss: 0.4805, val_f1: 0.5802\n"
     ]
    },
    {
     "data": {
      "application/vnd.jupyter.widget-view+json": {
       "model_id": "",
       "version_major": 2,
       "version_minor": 0
      },
      "text/plain": [
       "Epoch 18/50:   0%|          | 0/125 [00:00<?, ?it/s]"
      ]
     },
     "metadata": {},
     "output_type": "display_data"
    },
    {
     "name": "stdout",
     "output_type": "stream",
     "text": [
      "Epoch 18/50, train_loss : 0.6006, val_loss: 0.4799, val_f1: 0.5861\n"
     ]
    },
    {
     "data": {
      "application/vnd.jupyter.widget-view+json": {
       "model_id": "",
       "version_major": 2,
       "version_minor": 0
      },
      "text/plain": [
       "Epoch 19/50:   0%|          | 0/125 [00:00<?, ?it/s]"
      ]
     },
     "metadata": {},
     "output_type": "display_data"
    },
    {
     "name": "stdout",
     "output_type": "stream",
     "text": [
      "Epoch 19/50, train_loss : 0.4636, val_loss: 0.4800, val_f1: 0.5839\n"
     ]
    },
    {
     "data": {
      "application/vnd.jupyter.widget-view+json": {
       "model_id": "",
       "version_major": 2,
       "version_minor": 0
      },
      "text/plain": [
       "Epoch 20/50:   0%|          | 0/125 [00:00<?, ?it/s]"
      ]
     },
     "metadata": {},
     "output_type": "display_data"
    },
    {
     "name": "stdout",
     "output_type": "stream",
     "text": [
      "Epoch 20/50, train_loss : 0.5148, val_loss: 0.4788, val_f1: 0.5887\n"
     ]
    },
    {
     "data": {
      "application/vnd.jupyter.widget-view+json": {
       "model_id": "",
       "version_major": 2,
       "version_minor": 0
      },
      "text/plain": [
       "Epoch 21/50:   0%|          | 0/125 [00:00<?, ?it/s]"
      ]
     },
     "metadata": {},
     "output_type": "display_data"
    },
    {
     "name": "stdout",
     "output_type": "stream",
     "text": [
      "Epoch 21/50, train_loss : 0.5433, val_loss: 0.4777, val_f1: 0.5885\n"
     ]
    },
    {
     "data": {
      "application/vnd.jupyter.widget-view+json": {
       "model_id": "",
       "version_major": 2,
       "version_minor": 0
      },
      "text/plain": [
       "Epoch 22/50:   0%|          | 0/125 [00:00<?, ?it/s]"
      ]
     },
     "metadata": {},
     "output_type": "display_data"
    },
    {
     "name": "stdout",
     "output_type": "stream",
     "text": [
      "Epoch 22/50, train_loss : 0.6101, val_loss: 0.4785, val_f1: 0.5873\n"
     ]
    },
    {
     "data": {
      "application/vnd.jupyter.widget-view+json": {
       "model_id": "",
       "version_major": 2,
       "version_minor": 0
      },
      "text/plain": [
       "Epoch 23/50:   0%|          | 0/125 [00:00<?, ?it/s]"
      ]
     },
     "metadata": {},
     "output_type": "display_data"
    },
    {
     "name": "stdout",
     "output_type": "stream",
     "text": [
      "Epoch 23/50, train_loss : 0.6278, val_loss: 0.4767, val_f1: 0.5863\n"
     ]
    },
    {
     "data": {
      "application/vnd.jupyter.widget-view+json": {
       "model_id": "",
       "version_major": 2,
       "version_minor": 0
      },
      "text/plain": [
       "Epoch 24/50:   0%|          | 0/125 [00:00<?, ?it/s]"
      ]
     },
     "metadata": {},
     "output_type": "display_data"
    },
    {
     "name": "stdout",
     "output_type": "stream",
     "text": [
      "Epoch 24/50, train_loss : 0.5208, val_loss: 0.4765, val_f1: 0.5915\n"
     ]
    },
    {
     "data": {
      "application/vnd.jupyter.widget-view+json": {
       "model_id": "13b28cc6bca3460f96bbc9523963c7b3",
       "version_major": 2,
       "version_minor": 0
      },
      "text/plain": [
       "Epoch 25/50:   0%|          | 0/125 [00:00<?, ?it/s]"
      ]
     },
     "metadata": {},
     "output_type": "display_data"
    },
    {
     "name": "stdout",
     "output_type": "stream",
     "text": [
      "Epoch 25/50, train_loss : 0.5665, val_loss: 0.4744, val_f1: 0.5901\n"
     ]
    },
    {
     "data": {
      "application/vnd.jupyter.widget-view+json": {
       "model_id": "8b3ee0775bdb487f856891e15d1a4aad",
       "version_major": 2,
       "version_minor": 0
      },
      "text/plain": [
       "Epoch 26/50:   0%|          | 0/125 [00:00<?, ?it/s]"
      ]
     },
     "metadata": {},
     "output_type": "display_data"
    },
    {
     "name": "stdout",
     "output_type": "stream",
     "text": [
      "Epoch 26/50, train_loss : 0.5654, val_loss: 0.4739, val_f1: 0.5886\n"
     ]
    },
    {
     "data": {
      "application/vnd.jupyter.widget-view+json": {
       "model_id": "",
       "version_major": 2,
       "version_minor": 0
      },
      "text/plain": [
       "Epoch 27/50:   0%|          | 0/125 [00:00<?, ?it/s]"
      ]
     },
     "metadata": {},
     "output_type": "display_data"
    },
    {
     "name": "stdout",
     "output_type": "stream",
     "text": [
      "Epoch 27/50, train_loss : 0.5191, val_loss: 0.4748, val_f1: 0.5860\n"
     ]
    },
    {
     "data": {
      "application/vnd.jupyter.widget-view+json": {
       "model_id": "",
       "version_major": 2,
       "version_minor": 0
      },
      "text/plain": [
       "Epoch 28/50:   0%|          | 0/125 [00:00<?, ?it/s]"
      ]
     },
     "metadata": {},
     "output_type": "display_data"
    },
    {
     "name": "stdout",
     "output_type": "stream",
     "text": [
      "Epoch 28/50, train_loss : 0.6372, val_loss: 0.4736, val_f1: 0.5858\n"
     ]
    },
    {
     "data": {
      "application/vnd.jupyter.widget-view+json": {
       "model_id": "",
       "version_major": 2,
       "version_minor": 0
      },
      "text/plain": [
       "Epoch 29/50:   0%|          | 0/125 [00:00<?, ?it/s]"
      ]
     },
     "metadata": {},
     "output_type": "display_data"
    },
    {
     "name": "stdout",
     "output_type": "stream",
     "text": [
      "Epoch 29/50, train_loss : 0.5232, val_loss: 0.4730, val_f1: 0.5888\n"
     ]
    },
    {
     "data": {
      "application/vnd.jupyter.widget-view+json": {
       "model_id": "",
       "version_major": 2,
       "version_minor": 0
      },
      "text/plain": [
       "Epoch 30/50:   0%|          | 0/125 [00:00<?, ?it/s]"
      ]
     },
     "metadata": {},
     "output_type": "display_data"
    },
    {
     "name": "stdout",
     "output_type": "stream",
     "text": [
      "Epoch 30/50, train_loss : 0.6914, val_loss: 0.4735, val_f1: 0.5877\n"
     ]
    },
    {
     "data": {
      "application/vnd.jupyter.widget-view+json": {
       "model_id": "",
       "version_major": 2,
       "version_minor": 0
      },
      "text/plain": [
       "Epoch 31/50:   0%|          | 0/125 [00:00<?, ?it/s]"
      ]
     },
     "metadata": {},
     "output_type": "display_data"
    },
    {
     "name": "stdout",
     "output_type": "stream",
     "text": [
      "Epoch 31/50, train_loss : 0.5684, val_loss: 0.4729, val_f1: 0.5905\n"
     ]
    },
    {
     "data": {
      "application/vnd.jupyter.widget-view+json": {
       "model_id": "",
       "version_major": 2,
       "version_minor": 0
      },
      "text/plain": [
       "Epoch 32/50:   0%|          | 0/125 [00:00<?, ?it/s]"
      ]
     },
     "metadata": {},
     "output_type": "display_data"
    },
    {
     "name": "stdout",
     "output_type": "stream",
     "text": [
      "Epoch 32/50, train_loss : 0.6169, val_loss: 0.4735, val_f1: 0.5861\n"
     ]
    },
    {
     "data": {
      "application/vnd.jupyter.widget-view+json": {
       "model_id": "",
       "version_major": 2,
       "version_minor": 0
      },
      "text/plain": [
       "Epoch 33/50:   0%|          | 0/125 [00:00<?, ?it/s]"
      ]
     },
     "metadata": {},
     "output_type": "display_data"
    },
    {
     "name": "stdout",
     "output_type": "stream",
     "text": [
      "Epoch 33/50, train_loss : 0.5768, val_loss: 0.4742, val_f1: 0.5903\n"
     ]
    },
    {
     "data": {
      "application/vnd.jupyter.widget-view+json": {
       "model_id": "",
       "version_major": 2,
       "version_minor": 0
      },
      "text/plain": [
       "Epoch 34/50:   0%|          | 0/125 [00:00<?, ?it/s]"
      ]
     },
     "metadata": {},
     "output_type": "display_data"
    },
    {
     "name": "stdout",
     "output_type": "stream",
     "text": [
      "Epoch 34/50, train_loss : 0.5092, val_loss: 0.4766, val_f1: 0.5835\n",
      "Early stopping at epoch 34 as validation loss has not decreased for 3 epochs since epoch-31.\n"
     ]
    },
    {
     "data": {
      "image/png": "[encoded data removed]",
      "text/plain": [
       "<Figure size 640x480 with 1 Axes>"
      ]
     },
     "metadata": {},
     "output_type": "display_data"
    },
    {
     "name": "stdout",
     "output_type": "stream",
     "text": [
      "Test Set(en): ('Len: 10000', 'Tokens: 80536', 'Unique: 20222', \"Entities: {'O': 40875, 'I-ORG': 11638, 'I-PER': 7520, 'I-LOC': 6357, 'B-LOC': 4834, 'B-ORG': 4677, 'B-PER': 4635}\")\n",
      "LANG [en]: F1-score (Token-level) : 0.584\n",
      "Test Loss: 0.4940377190897736 \n",
      " Test Evaluation (strict IOB2):\n",
      "              precision    recall  f1-score   support\n",
      "\n",
      "         LOC      0.665     0.632     0.648      8687\n",
      "         ORG      0.508     0.408     0.453      7203\n",
      "         PER      0.753     0.769     0.761      6259\n",
      "\n",
      "   micro avg      0.648     0.598     0.622     22149\n",
      "   macro avg      0.642     0.603     0.620     22149\n",
      "weighted avg      0.639     0.598     0.616     22149\n",
      "\n"
     ]
    }
   ],
   "source": [
    "#finetune= False {train classifier only]\n",
    "train_test([\"en\"], [\"en\"], model_path = \"/fp/projects01/ec30/models/bert-base-multilingual-cased/\", finetune=False,  lr=1e-3)"
   ]
  },
  {
   "cell_type": "markdown",
   "id": "c2ced2a0-6f39-41e7-8206-454656e167b2",
   "metadata": {},
   "source": [
    "## 1C:  evaluate the finetuned models on the development set in each language (English, Italian, Afrikaans, Swahili, and German)."
   ]
  },
  {
   "cell_type": "code",
   "execution_count": 13,
   "id": "585556c5-bbae-4806-ac41-d80e48465be2",
   "metadata": {},
   "outputs": [
    {
     "name": "stderr",
     "output_type": "stream",
     "text": [
      "Some weights of BertForTokenClassification were not initialized from the model checkpoint at /fp/projects01/ec30/models/bert-base-multilingual-cased/ and are newly initialized: ['classifier.weight', 'classifier.bias']\n",
      "You should probably TRAIN this model on a down-stream task to be able to use it for predictions and inference.\n"
     ]
    },
    {
     "name": "stdout",
     "output_type": "stream",
     "text": [
      "Train Language(s): ['en']\n",
      "Train Set: ('Len: 16000', 'Tokens: 128429', 'Unique: 28681', \"Entities: {'O': 65017, 'I-ORG': 18842, 'I-PER': 11628, 'I-LOC': 10530, 'B-ORG': 7623, 'B-LOC': 7536, 'B-PER': 7253}\")\n",
      "Val Set: ('Len: 4000', 'Tokens: 31965', 'Unique: 10319', \"Entities: {'O': 16345, 'I-ORG': 4384, 'I-PER': 3070, 'I-LOC': 2647, 'B-PER': 1911, 'B-LOC': 1809, 'B-ORG': 1799}\")\n",
      "Trainable parameters:  177,268,231\n"
     ]
    },
    {
     "data": {
      "application/vnd.jupyter.widget-view+json": {
       "model_id": "",
       "version_major": 2,
       "version_minor": 0
      },
      "text/plain": [
       "Epoch 1/50:   0%|          | 0/125 [00:00<?, ?it/s]"
      ]
     },
     "metadata": {},
     "output_type": "display_data"
    },
    {
     "name": "stdout",
     "output_type": "stream",
     "text": [
      "Epoch 1/50, train_loss : 0.5266, val_loss: 0.3589, val_f1: 0.7269\n"
     ]
    },
    {
     "data": {
      "application/vnd.jupyter.widget-view+json": {
       "model_id": "",
       "version_major": 2,
       "version_minor": 0
      },
      "text/plain": [
       "Epoch 2/50:   0%|          | 0/125 [00:00<?, ?it/s]"
      ]
     },
     "metadata": {},
     "output_type": "display_data"
    },
    {
     "name": "stdout",
     "output_type": "stream",
     "text": [
      "Epoch 2/50, train_loss : 0.2460, val_loss: 0.2907, val_f1: 0.7994\n"
     ]
    },
    {
     "data": {
      "application/vnd.jupyter.widget-view+json": {
       "model_id": "",
       "version_major": 2,
       "version_minor": 0
      },
      "text/plain": [
       "Epoch 3/50:   0%|          | 0/125 [00:00<?, ?it/s]"
      ]
     },
     "metadata": {},
     "output_type": "display_data"
    },
    {
     "name": "stdout",
     "output_type": "stream",
     "text": [
      "Epoch 3/50, train_loss : 0.2877, val_loss: 0.2798, val_f1: 0.8085\n"
     ]
    },
    {
     "data": {
      "application/vnd.jupyter.widget-view+json": {
       "model_id": "",
       "version_major": 2,
       "version_minor": 0
      },
      "text/plain": [
       "Epoch 4/50:   0%|          | 0/125 [00:00<?, ?it/s]"
      ]
     },
     "metadata": {},
     "output_type": "display_data"
    },
    {
     "name": "stdout",
     "output_type": "stream",
     "text": [
      "Epoch 4/50, train_loss : 0.2255, val_loss: 0.2712, val_f1: 0.8135\n"
     ]
    },
    {
     "data": {
      "application/vnd.jupyter.widget-view+json": {
       "model_id": "",
       "version_major": 2,
       "version_minor": 0
      },
      "text/plain": [
       "Epoch 5/50:   0%|          | 0/125 [00:00<?, ?it/s]"
      ]
     },
     "metadata": {},
     "output_type": "display_data"
    },
    {
     "name": "stdout",
     "output_type": "stream",
     "text": [
      "Epoch 5/50, train_loss : 0.2131, val_loss: 0.2779, val_f1: 0.8177\n"
     ]
    },
    {
     "data": {
      "application/vnd.jupyter.widget-view+json": {
       "model_id": "",
       "version_major": 2,
       "version_minor": 0
      },
      "text/plain": [
       "Epoch 6/50:   0%|          | 0/125 [00:00<?, ?it/s]"
      ]
     },
     "metadata": {},
     "output_type": "display_data"
    },
    {
     "name": "stdout",
     "output_type": "stream",
     "text": [
      "Epoch 6/50, train_loss : 0.1795, val_loss: 0.2807, val_f1: 0.8205\n"
     ]
    },
    {
     "data": {
      "application/vnd.jupyter.widget-view+json": {
       "model_id": "",
       "version_major": 2,
       "version_minor": 0
      },
      "text/plain": [
       "Epoch 7/50:   0%|          | 0/125 [00:00<?, ?it/s]"
      ]
     },
     "metadata": {},
     "output_type": "display_data"
    },
    {
     "name": "stdout",
     "output_type": "stream",
     "text": [
      "Epoch 7/50, train_loss : 0.1221, val_loss: 0.2844, val_f1: 0.8202\n",
      "Early stopping at epoch 7 as validation loss has not decreased for 3 epochs since epoch-4.\n"
     ]
    },
    {
     "data": {
      "image/png": "[encoded data removed]",
      "text/plain": [
       "<Figure size 640x480 with 1 Axes>"
      ]
     },
     "metadata": {},
     "output_type": "display_data"
    },
    {
     "name": "stdout",
     "output_type": "stream",
     "text": [
      "Test Set(en): ('Len: 10000', 'Tokens: 80536', 'Unique: 20222', \"Entities: {'O': 40875, 'I-ORG': 11638, 'I-PER': 7520, 'I-LOC': 6357, 'B-LOC': 4834, 'B-ORG': 4677, 'B-PER': 4635}\")\n",
      "Test Set(it): ('Len: 10000', 'Tokens: 80005', 'Unique: 18461', \"Entities: {'O': 47357, 'I-ORG': 8992, 'I-PER': 5863, 'B-PER': 4911, 'B-LOC': 4600, 'I-LOC': 4166, 'B-ORG': 4116}\")\n",
      "Test Set(af): ('Len: 1000', 'Tokens: 10894', 'Unique: 3404', \"Entities: {'O': 7764, 'I-ORG': 911, 'B-ORG': 583, 'I-PER': 548, 'B-LOC': 529, 'B-PER': 370, 'I-LOC': 189}\")\n",
      "Test Set(sw): ('Len: 1000', 'Tokens: 5609', 'Unique: 1830', \"Entities: {'O': 2412, 'I-ORG': 696, 'I-PER': 674, 'I-LOC': 618, 'B-LOC': 452, 'B-PER': 403, 'B-ORG': 354}\")\n",
      "Test Set(de): ('Len: 10000', 'Tokens: 97805', 'Unique: 23570', \"Entities: {'O': 69057, 'I-PER': 6539, 'I-ORG': 6107, 'B-LOC': 4968, 'B-PER': 4569, 'B-ORG': 4281, 'I-LOC': 2284}\")\n",
      "LANG [en]: F1-score (Token-level) : 0.828\n",
      "Test Loss: 0.2819358216056341 \n",
      " Test Evaluation (strict IOB2):\n",
      "              precision    recall  f1-score   support\n",
      "\n",
      "         LOC      0.866     0.884     0.875      8687\n",
      "         ORG      0.774     0.706     0.739      7203\n",
      "         PER      0.877     0.900     0.888      6259\n",
      "\n",
      "   micro avg      0.842     0.830     0.836     22149\n",
      "   macro avg      0.839     0.830     0.834     22149\n",
      "weighted avg      0.840     0.830     0.834     22149\n",
      "\n",
      "LANG [it]: F1-score (Token-level) : 0.769\n",
      "Test Loss: 0.38796027155616614 \n",
      " Test Evaluation (strict IOB2):\n",
      "              precision    recall  f1-score   support\n",
      "\n",
      "         LOC      0.808     0.774     0.791      8402\n",
      "         ORG      0.610     0.676     0.641      6142\n",
      "         PER      0.874     0.917     0.895      6732\n",
      "\n",
      "   micro avg      0.768     0.791     0.779     21276\n",
      "   macro avg      0.764     0.789     0.776     21276\n",
      "weighted avg      0.772     0.791     0.781     21276\n",
      "\n",
      "LANG [af]: F1-score (Token-level) : 0.665\n",
      "Test Loss: 0.4834480322897434 \n",
      " Test Evaluation (strict IOB2):\n",
      "              precision    recall  f1-score   support\n",
      "\n",
      "         LOC      0.735     0.792     0.762      1166\n",
      "         ORG      0.474     0.610     0.534      1137\n",
      "         PER      0.731     0.832     0.778       576\n",
      "\n",
      "   micro avg      0.621     0.728     0.671      2879\n",
      "   macro avg      0.647     0.745     0.692      2879\n",
      "weighted avg      0.632     0.728     0.675      2879\n",
      "\n",
      "LANG [sw]: F1-score (Token-level) : 0.691\n",
      "Test Loss: 0.6571764275431633 \n",
      " Test Evaluation (strict IOB2):\n",
      "              precision    recall  f1-score   support\n",
      "\n",
      "         LOC      0.779     0.727     0.752       791\n",
      "         ORG      0.528     0.402     0.457       557\n",
      "         PER      0.844     0.837     0.840       588\n",
      "\n",
      "   micro avg      0.740     0.667     0.701      1936\n",
      "   macro avg      0.717     0.655     0.683      1936\n",
      "weighted avg      0.727     0.667     0.694      1936\n",
      "\n",
      "LANG [de]: F1-score (Token-level) : 0.701\n",
      "Test Loss: 0.3616485595703125 \n",
      " Test Evaluation (strict IOB2):\n",
      "              precision    recall  f1-score   support\n",
      "\n",
      "         LOC      0.792     0.792     0.792     10220\n",
      "         ORG      0.548     0.601     0.573      8363\n",
      "         PER      0.694     0.802     0.744      6659\n",
      "\n",
      "   micro avg      0.681     0.732     0.706     25242\n",
      "   macro avg      0.678     0.732     0.703     25242\n",
      "weighted avg      0.685     0.732     0.707     25242\n",
      "\n"
     ]
    }
   ],
   "source": [
    "train_test([\"en\"],[\"en\", \"it\", \"af\", \"sw\", \"de\"], model_path = \"/fp/projects01/ec30/models/bert-base-multilingual-cased/\")"
   ]
  },
  {
   "cell_type": "markdown",
   "id": "40b2d002-c13e-4213-9f3a-ffa0219534da",
   "metadata": {},
   "source": [
    "# Part 2: Finetuning Multilingual Transformers on Mixture of Languages "
   ]
  },
  {
   "cell_type": "code",
   "execution_count": 14,
   "id": "5d6194fc-ab71-42a3-ada5-3338242d18c3",
   "metadata": {},
   "outputs": [
    {
     "name": "stderr",
     "output_type": "stream",
     "text": [
      "Some weights of BertForTokenClassification were not initialized from the model checkpoint at /fp/projects01/ec30/models/bert-base-multilingual-cased/ and are newly initialized: ['classifier.weight', 'classifier.bias']\n",
      "You should probably TRAIN this model on a down-stream task to be able to use it for predictions and inference.\n"
     ]
    },
    {
     "name": "stdout",
     "output_type": "stream",
     "text": [
      "Train Language(s): ['en', 'it']\n",
      "Train Set: ('Len: 32000', 'Tokens: 258292', 'Unique: 49280', \"Entities: {'O': 142420, 'I-ORG': 32565, 'I-PER': 21131, 'I-LOC': 17734, 'B-LOC': 15401, 'B-PER': 15132, 'B-ORG': 13909}\")\n",
      "Val Set: ('Len: 8000', 'Tokens: 64589', 'Unique: 18388', \"Entities: {'O': 35710, 'I-ORG': 8184, 'I-PER': 5299, 'I-LOC': 4244, 'B-PER': 3798, 'B-LOC': 3796, 'B-ORG': 3558}\")\n",
      "Trainable parameters:  177,268,231\n"
     ]
    },
    {
     "data": {
      "application/vnd.jupyter.widget-view+json": {
       "model_id": "",
       "version_major": 2,
       "version_minor": 0
      },
      "text/plain": [
       "Epoch 1/50:   0%|          | 0/250 [00:00<?, ?it/s]"
      ]
     },
     "metadata": {},
     "output_type": "display_data"
    },
    {
     "name": "stdout",
     "output_type": "stream",
     "text": [
      "Epoch 1/50, train_loss : 0.3403, val_loss: 0.2614, val_f1: 0.8085\n"
     ]
    },
    {
     "data": {
      "application/vnd.jupyter.widget-view+json": {
       "model_id": "",
       "version_major": 2,
       "version_minor": 0
      },
      "text/plain": [
       "Epoch 2/50:   0%|          | 0/250 [00:00<?, ?it/s]"
      ]
     },
     "metadata": {},
     "output_type": "display_data"
    },
    {
     "name": "stdout",
     "output_type": "stream",
     "text": [
      "Epoch 2/50, train_loss : 0.1827, val_loss: 0.2218, val_f1: 0.8393\n"
     ]
    },
    {
     "data": {
      "application/vnd.jupyter.widget-view+json": {
       "model_id": "",
       "version_major": 2,
       "version_minor": 0
      },
      "text/plain": [
       "Epoch 3/50:   0%|          | 0/250 [00:00<?, ?it/s]"
      ]
     },
     "metadata": {},
     "output_type": "display_data"
    },
    {
     "name": "stdout",
     "output_type": "stream",
     "text": [
      "Epoch 3/50, train_loss : 0.1610, val_loss: 0.2192, val_f1: 0.8503\n"
     ]
    },
    {
     "data": {
      "application/vnd.jupyter.widget-view+json": {
       "model_id": "",
       "version_major": 2,
       "version_minor": 0
      },
      "text/plain": [
       "Epoch 4/50:   0%|          | 0/250 [00:00<?, ?it/s]"
      ]
     },
     "metadata": {},
     "output_type": "display_data"
    },
    {
     "name": "stdout",
     "output_type": "stream",
     "text": [
      "Epoch 4/50, train_loss : 0.1805, val_loss: 0.2106, val_f1: 0.8564\n"
     ]
    },
    {
     "data": {
      "application/vnd.jupyter.widget-view+json": {
       "model_id": "",
       "version_major": 2,
       "version_minor": 0
      },
      "text/plain": [
       "Epoch 5/50:   0%|          | 0/250 [00:00<?, ?it/s]"
      ]
     },
     "metadata": {},
     "output_type": "display_data"
    },
    {
     "name": "stdout",
     "output_type": "stream",
     "text": [
      "Epoch 5/50, train_loss : 0.1378, val_loss: 0.2227, val_f1: 0.8534\n"
     ]
    },
    {
     "data": {
      "application/vnd.jupyter.widget-view+json": {
       "model_id": "",
       "version_major": 2,
       "version_minor": 0
      },
      "text/plain": [
       "Epoch 6/50:   0%|          | 0/250 [00:00<?, ?it/s]"
      ]
     },
     "metadata": {},
     "output_type": "display_data"
    },
    {
     "name": "stdout",
     "output_type": "stream",
     "text": [
      "Epoch 6/50, train_loss : 0.0567, val_loss: 0.2226, val_f1: 0.8633\n"
     ]
    },
    {
     "data": {
      "application/vnd.jupyter.widget-view+json": {
       "model_id": "",
       "version_major": 2,
       "version_minor": 0
      },
      "text/plain": [
       "Epoch 7/50:   0%|          | 0/250 [00:00<?, ?it/s]"
      ]
     },
     "metadata": {},
     "output_type": "display_data"
    },
    {
     "name": "stdout",
     "output_type": "stream",
     "text": [
      "Epoch 7/50, train_loss : 0.1336, val_loss: 0.2252, val_f1: 0.8631\n",
      "Early stopping at epoch 7 as validation loss has not decreased for 3 epochs since epoch-4.\n"
     ]
    },
    {
     "data": {
      "image/png": "[encoded data removed]",
      "text/plain": [
       "<Figure size 640x480 with 1 Axes>"
      ]
     },
     "metadata": {},
     "output_type": "display_data"
    },
    {
     "name": "stdout",
     "output_type": "stream",
     "text": [
      "Test Set(en): ('Len: 10000', 'Tokens: 80536', 'Unique: 20222', \"Entities: {'O': 40875, 'I-ORG': 11638, 'I-PER': 7520, 'I-LOC': 6357, 'B-LOC': 4834, 'B-ORG': 4677, 'B-PER': 4635}\")\n",
      "Test Set(it): ('Len: 10000', 'Tokens: 80005', 'Unique: 18461', \"Entities: {'O': 47357, 'I-ORG': 8992, 'I-PER': 5863, 'B-PER': 4911, 'B-LOC': 4600, 'I-LOC': 4166, 'B-ORG': 4116}\")\n",
      "Test Set(af): ('Len: 1000', 'Tokens: 10894', 'Unique: 3404', \"Entities: {'O': 7764, 'I-ORG': 911, 'B-ORG': 583, 'I-PER': 548, 'B-LOC': 529, 'B-PER': 370, 'I-LOC': 189}\")\n",
      "Test Set(sw): ('Len: 1000', 'Tokens: 5609', 'Unique: 1830', \"Entities: {'O': 2412, 'I-ORG': 696, 'I-PER': 674, 'I-LOC': 618, 'B-LOC': 452, 'B-PER': 403, 'B-ORG': 354}\")\n",
      "Test Set(de): ('Len: 10000', 'Tokens: 97805', 'Unique: 23570', \"Entities: {'O': 69057, 'I-PER': 6539, 'I-ORG': 6107, 'B-LOC': 4968, 'B-PER': 4569, 'B-ORG': 4281, 'I-LOC': 2284}\")\n",
      "LANG [en]: F1-score (Token-level) : 0.836\n",
      "Test Loss: 0.28844336486315425 \n",
      " Test Evaluation (strict IOB2):\n",
      "              precision    recall  f1-score   support\n",
      "\n",
      "         LOC      0.859     0.902     0.880      8687\n",
      "         ORG      0.788     0.724     0.755      7203\n",
      "         PER      0.876     0.898     0.887      6259\n",
      "\n",
      "   micro avg      0.843     0.843     0.843     22149\n",
      "   macro avg      0.841     0.842     0.841     22149\n",
      "weighted avg      0.841     0.843     0.841     22149\n",
      "\n",
      "LANG [it]: F1-score (Token-level) : 0.907\n",
      "Test Loss: 0.1506128216374524 \n",
      " Test Evaluation (strict IOB2):\n",
      "              precision    recall  f1-score   support\n",
      "\n",
      "         LOC      0.888     0.933     0.910      8402\n",
      "         ORG      0.880     0.846     0.863      6142\n",
      "         PER      0.960     0.951     0.955      6732\n",
      "\n",
      "   micro avg      0.908     0.914     0.911     21276\n",
      "   macro avg      0.909     0.910     0.909     21276\n",
      "weighted avg      0.909     0.914     0.911     21276\n",
      "\n",
      "LANG [af]: F1-score (Token-level) : 0.723\n",
      "Test Loss: 0.37471782602369785 \n",
      " Test Evaluation (strict IOB2):\n",
      "              precision    recall  f1-score   support\n",
      "\n",
      "         LOC      0.722     0.845     0.778      1166\n",
      "         ORG      0.580     0.624     0.601      1137\n",
      "         PER      0.841     0.918     0.878       576\n",
      "\n",
      "   micro avg      0.691     0.772     0.730      2879\n",
      "   macro avg      0.714     0.796     0.753      2879\n",
      "weighted avg      0.690     0.772     0.728      2879\n",
      "\n",
      "LANG [sw]: F1-score (Token-level) : 0.665\n",
      "Test Loss: 0.6192552708089352 \n",
      " Test Evaluation (strict IOB2):\n",
      "              precision    recall  f1-score   support\n",
      "\n",
      "         LOC      0.726     0.723     0.725       791\n",
      "         ORG      0.444     0.476     0.459       557\n",
      "         PER      0.861     0.811     0.835       588\n",
      "\n",
      "   micro avg      0.678     0.679     0.678      1936\n",
      "   macro avg      0.677     0.670     0.673      1936\n",
      "weighted avg      0.686     0.679     0.682      1936\n",
      "\n",
      "LANG [de]: F1-score (Token-level) : 0.760\n",
      "Test Loss: 0.28217884030523177 \n",
      " Test Evaluation (strict IOB2):\n",
      "              precision    recall  f1-score   support\n",
      "\n",
      "         LOC      0.785     0.819     0.801     10220\n",
      "         ORG      0.644     0.638     0.641      8363\n",
      "         PER      0.888     0.839     0.863      6659\n",
      "\n",
      "   micro avg      0.764     0.764     0.764     25242\n",
      "   macro avg      0.772     0.765     0.768     25242\n",
      "weighted avg      0.765     0.764     0.764     25242\n",
      "\n"
     ]
    }
   ],
   "source": [
    "train_test([\"en\",  \"it\"],[\"en\", \"it\", \"af\", \"sw\", \"de\"], model_path = \"/fp/projects01/ec30/models/bert-base-multilingual-cased/\")"
   ]
  },
  {
   "cell_type": "code",
   "execution_count": 34,
   "id": "dc87c4ef-97d5-4149-9165-7946b5f5aa9a",
   "metadata": {},
   "outputs": [
    {
     "name": "stderr",
     "output_type": "stream",
     "text": [
      "Some weights of BertForTokenClassification were not initialized from the model checkpoint at /fp/projects01/ec30/models/bert-base-multilingual-cased/ and are newly initialized: ['classifier.weight', 'classifier.bias']\n",
      "You should probably TRAIN this model on a down-stream task to be able to use it for predictions and inference.\n"
     ]
    },
    {
     "name": "stdout",
     "output_type": "stream",
     "text": [
      "Train Language(s): ['en', 'de']\n",
      "Train Set: ('Len: 32000', 'Tokens: 284404', 'Unique: 56417', \"Entities: {'O': 174868, 'I-ORG': 28295, 'I-PER': 22468, 'B-LOC': 15269, 'B-PER': 14763, 'I-LOC': 14415, 'B-ORG': 14326}\")\n",
      "Val Set: ('Len: 8000', 'Tokens: 71377', 'Unique: 20823', \"Entities: {'O': 44029, 'I-ORG': 7177, 'I-PER': 5560, 'B-LOC': 3854, 'B-PER': 3691, 'B-ORG': 3671, 'I-LOC': 3395}\")\n",
      "Trainable parameters:  177,268,231\n"
     ]
    },
    {
     "data": {
      "application/vnd.jupyter.widget-view+json": {
       "model_id": "",
       "version_major": 2,
       "version_minor": 0
      },
      "text/plain": [
       "Epoch 1/50:   0%|          | 0/250 [00:00<?, ?it/s]"
      ]
     },
     "metadata": {},
     "output_type": "display_data"
    },
    {
     "name": "stdout",
     "output_type": "stream",
     "text": [
      "Epoch 1/50, train_loss : 0.2790, val_loss: 0.2559, val_f1: 0.7895\n"
     ]
    },
    {
     "data": {
      "application/vnd.jupyter.widget-view+json": {
       "model_id": "",
       "version_major": 2,
       "version_minor": 0
      },
      "text/plain": [
       "Epoch 2/50:   0%|          | 0/250 [00:00<?, ?it/s]"
      ]
     },
     "metadata": {},
     "output_type": "display_data"
    },
    {
     "name": "stdout",
     "output_type": "stream",
     "text": [
      "Epoch 2/50, train_loss : 0.1995, val_loss: 0.2252, val_f1: 0.8127\n"
     ]
    },
    {
     "data": {
      "application/vnd.jupyter.widget-view+json": {
       "model_id": "",
       "version_major": 2,
       "version_minor": 0
      },
      "text/plain": [
       "Epoch 3/50:   0%|          | 0/250 [00:00<?, ?it/s]"
      ]
     },
     "metadata": {},
     "output_type": "display_data"
    },
    {
     "name": "stdout",
     "output_type": "stream",
     "text": [
      "Epoch 3/50, train_loss : 0.1820, val_loss: 0.2142, val_f1: 0.8314\n"
     ]
    },
    {
     "data": {
      "application/vnd.jupyter.widget-view+json": {
       "model_id": "",
       "version_major": 2,
       "version_minor": 0
      },
      "text/plain": [
       "Epoch 4/50:   0%|          | 0/250 [00:00<?, ?it/s]"
      ]
     },
     "metadata": {},
     "output_type": "display_data"
    },
    {
     "name": "stdout",
     "output_type": "stream",
     "text": [
      "Epoch 4/50, train_loss : 0.1355, val_loss: 0.2088, val_f1: 0.8363\n"
     ]
    },
    {
     "data": {
      "application/vnd.jupyter.widget-view+json": {
       "model_id": "",
       "version_major": 2,
       "version_minor": 0
      },
      "text/plain": [
       "Epoch 5/50:   0%|          | 0/250 [00:00<?, ?it/s]"
      ]
     },
     "metadata": {},
     "output_type": "display_data"
    },
    {
     "name": "stdout",
     "output_type": "stream",
     "text": [
      "Epoch 5/50, train_loss : 0.1644, val_loss: 0.2117, val_f1: 0.8445\n"
     ]
    },
    {
     "data": {
      "application/vnd.jupyter.widget-view+json": {
       "model_id": "",
       "version_major": 2,
       "version_minor": 0
      },
      "text/plain": [
       "Epoch 6/50:   0%|          | 0/250 [00:00<?, ?it/s]"
      ]
     },
     "metadata": {},
     "output_type": "display_data"
    },
    {
     "name": "stdout",
     "output_type": "stream",
     "text": [
      "Epoch 6/50, train_loss : 0.1303, val_loss: 0.2169, val_f1: 0.8456\n"
     ]
    },
    {
     "data": {
      "application/vnd.jupyter.widget-view+json": {
       "model_id": "",
       "version_major": 2,
       "version_minor": 0
      },
      "text/plain": [
       "Epoch 7/50:   0%|          | 0/250 [00:00<?, ?it/s]"
      ]
     },
     "metadata": {},
     "output_type": "display_data"
    },
    {
     "name": "stdout",
     "output_type": "stream",
     "text": [
      "Epoch 7/50, train_loss : 0.1036, val_loss: 0.2250, val_f1: 0.8448\n",
      "Early stopping at epoch 7 as validation loss has not decreased for 3 epochs since epoch-4.\n"
     ]
    },
    {
     "data": {
      "image/png": "[encoded data removed]",
      "text/plain": [
       "<Figure size 640x480 with 1 Axes>"
      ]
     },
     "metadata": {},
     "output_type": "display_data"
    },
    {
     "name": "stdout",
     "output_type": "stream",
     "text": [
      "Test Set(en): ('Len: 10000', 'Tokens: 80536', 'Unique: 20222', \"Entities: {'O': 40875, 'I-ORG': 11638, 'I-PER': 7520, 'I-LOC': 6357, 'B-LOC': 4834, 'B-ORG': 4677, 'B-PER': 4635}\")\n",
      "Test Set(it): ('Len: 10000', 'Tokens: 80005', 'Unique: 18461', \"Entities: {'O': 47357, 'I-ORG': 8992, 'I-PER': 5863, 'B-PER': 4911, 'B-LOC': 4600, 'I-LOC': 4166, 'B-ORG': 4116}\")\n",
      "Test Set(af): ('Len: 1000', 'Tokens: 10894', 'Unique: 3404', \"Entities: {'O': 7764, 'I-ORG': 911, 'B-ORG': 583, 'I-PER': 548, 'B-LOC': 529, 'B-PER': 370, 'I-LOC': 189}\")\n",
      "Test Set(sw): ('Len: 1000', 'Tokens: 5609', 'Unique: 1830', \"Entities: {'O': 2412, 'I-ORG': 696, 'I-PER': 674, 'I-LOC': 618, 'B-LOC': 452, 'B-PER': 403, 'B-ORG': 354}\")\n",
      "Test Set(de): ('Len: 10000', 'Tokens: 97805', 'Unique: 23570', \"Entities: {'O': 69057, 'I-PER': 6539, 'I-ORG': 6107, 'B-LOC': 4968, 'B-PER': 4569, 'B-ORG': 4281, 'I-LOC': 2284}\")\n",
      "LANG [en]: F1-score (Token-level) : 0.835\n",
      "Test Loss: 0.2865803436010699 \n",
      " Test Evaluation (strict IOB2):\n",
      "              precision    recall  f1-score   support\n",
      "\n",
      "         LOC      0.866     0.889     0.877      8687\n",
      "         ORG      0.771     0.731     0.751      7203\n",
      "         PER      0.901     0.893     0.897      6259\n",
      "\n",
      "   micro avg      0.846     0.839     0.843     22149\n",
      "   macro avg      0.846     0.838     0.842     22149\n",
      "weighted avg      0.845     0.839     0.842     22149\n",
      "\n",
      "LANG [it]: F1-score (Token-level) : 0.799\n",
      "Test Loss: 0.3634372187566154 \n",
      " Test Evaluation (strict IOB2):\n",
      "              precision    recall  f1-score   support\n",
      "\n",
      "         LOC      0.831     0.787     0.808      8402\n",
      "         ORG      0.646     0.730     0.686      6142\n",
      "         PER      0.920     0.911     0.915      6732\n",
      "\n",
      "   micro avg      0.799     0.810     0.804     21276\n",
      "   macro avg      0.799     0.809     0.803     21276\n",
      "weighted avg      0.806     0.810     0.807     21276\n",
      "\n",
      "LANG [af]: F1-score (Token-level) : 0.720\n",
      "Test Loss: 0.42283865064382553 \n",
      " Test Evaluation (strict IOB2):\n",
      "              precision    recall  f1-score   support\n",
      "\n",
      "         LOC      0.728     0.846     0.782      1166\n",
      "         ORG      0.539     0.673     0.598      1137\n",
      "         PER      0.860     0.894     0.877       576\n",
      "\n",
      "   micro avg      0.672     0.787     0.725      2879\n",
      "   macro avg      0.709     0.804     0.752      2879\n",
      "weighted avg      0.679     0.787     0.728      2879\n",
      "\n",
      "LANG [sw]: F1-score (Token-level) : 0.672\n",
      "Test Loss: 0.647615123540163 \n",
      " Test Evaluation (strict IOB2):\n",
      "              precision    recall  f1-score   support\n",
      "\n",
      "         LOC      0.762     0.678     0.718       791\n",
      "         ORG      0.565     0.467     0.511       557\n",
      "         PER      0.799     0.786     0.792       588\n",
      "\n",
      "   micro avg      0.723     0.650     0.684      1936\n",
      "   macro avg      0.709     0.643     0.674      1936\n",
      "weighted avg      0.717     0.650     0.681      1936\n",
      "\n",
      "LANG [de]: F1-score (Token-level) : 0.857\n",
      "Test Loss: 0.1766258851636814 \n",
      " Test Evaluation (strict IOB2):\n",
      "              precision    recall  f1-score   support\n",
      "\n",
      "         LOC      0.865     0.902     0.883     10220\n",
      "         ORG      0.772     0.815     0.793      8363\n",
      "         PER      0.944     0.880     0.911      6659\n",
      "\n",
      "   micro avg      0.852     0.867     0.860     25242\n",
      "   macro avg      0.860     0.866     0.862     25242\n",
      "weighted avg      0.855     0.867     0.861     25242\n",
      "\n"
     ]
    }
   ],
   "source": [
    "train_test([\"en\",  \"de\"],[\"en\", \"it\", \"af\", \"sw\", \"de\"], model_path = \"/fp/projects01/ec30/models/bert-base-multilingual-cased/\")"
   ]
  },
  {
   "cell_type": "code",
   "execution_count": 35,
   "id": "f0f9ad70-3bbb-4498-8e41-54882738bcc1",
   "metadata": {},
   "outputs": [
    {
     "name": "stderr",
     "output_type": "stream",
     "text": [
      "Some weights of BertForTokenClassification were not initialized from the model checkpoint at /fp/projects01/ec30/models/bert-base-multilingual-cased/ and are newly initialized: ['classifier.weight', 'classifier.bias']\n",
      "You should probably TRAIN this model on a down-stream task to be able to use it for predictions and inference.\n"
     ]
    },
    {
     "name": "stdout",
     "output_type": "stream",
     "text": [
      "Train Language(s): ['en', 'it', 'de']\n",
      "Train Set: ('Len: 48000', 'Tokens: 414625', 'Unique: 75401', \"Entities: {'O': 252626, 'I-ORG': 42480, 'I-PER': 31735, 'B-LOC': 23148, 'B-PER': 22564, 'I-LOC': 21232, 'B-ORG': 20840}\")\n",
      "Val Set: ('Len: 12000', 'Tokens: 103643', 'Unique: 28396', \"Entities: {'O': 63039, 'I-ORG': 10515, 'I-PER': 8025, 'B-LOC': 5827, 'B-PER': 5656, 'I-LOC': 5379, 'B-ORG': 5202}\")\n",
      "Trainable parameters:  177,268,231\n"
     ]
    },
    {
     "data": {
      "application/vnd.jupyter.widget-view+json": {
       "model_id": "",
       "version_major": 2,
       "version_minor": 0
      },
      "text/plain": [
       "Epoch 1/50:   0%|          | 0/375 [00:00<?, ?it/s]"
      ]
     },
     "metadata": {},
     "output_type": "display_data"
    },
    {
     "name": "stdout",
     "output_type": "stream",
     "text": [
      "Epoch 1/50, train_loss : 0.1814, val_loss: 0.2174, val_f1: 0.8239\n"
     ]
    },
    {
     "data": {
      "application/vnd.jupyter.widget-view+json": {
       "model_id": "",
       "version_major": 2,
       "version_minor": 0
      },
      "text/plain": [
       "Epoch 2/50:   0%|          | 0/375 [00:00<?, ?it/s]"
      ]
     },
     "metadata": {},
     "output_type": "display_data"
    },
    {
     "name": "stdout",
     "output_type": "stream",
     "text": [
      "Epoch 2/50, train_loss : 0.2729, val_loss: 0.1884, val_f1: 0.8463\n"
     ]
    },
    {
     "data": {
      "application/vnd.jupyter.widget-view+json": {
       "model_id": "",
       "version_major": 2,
       "version_minor": 0
      },
      "text/plain": [
       "Epoch 3/50:   0%|          | 0/375 [00:00<?, ?it/s]"
      ]
     },
     "metadata": {},
     "output_type": "display_data"
    },
    {
     "name": "stdout",
     "output_type": "stream",
     "text": [
      "Epoch 3/50, train_loss : 0.1538, val_loss: 0.1831, val_f1: 0.8552\n"
     ]
    },
    {
     "data": {
      "application/vnd.jupyter.widget-view+json": {
       "model_id": "",
       "version_major": 2,
       "version_minor": 0
      },
      "text/plain": [
       "Epoch 4/50:   0%|          | 0/375 [00:00<?, ?it/s]"
      ]
     },
     "metadata": {},
     "output_type": "display_data"
    },
    {
     "name": "stdout",
     "output_type": "stream",
     "text": [
      "Epoch 4/50, train_loss : 0.1169, val_loss: 0.1829, val_f1: 0.8572\n"
     ]
    },
    {
     "data": {
      "application/vnd.jupyter.widget-view+json": {
       "model_id": "",
       "version_major": 2,
       "version_minor": 0
      },
      "text/plain": [
       "Epoch 5/50:   0%|          | 0/375 [00:00<?, ?it/s]"
      ]
     },
     "metadata": {},
     "output_type": "display_data"
    },
    {
     "name": "stdout",
     "output_type": "stream",
     "text": [
      "Epoch 5/50, train_loss : 0.1134, val_loss: 0.1849, val_f1: 0.8609\n"
     ]
    },
    {
     "data": {
      "application/vnd.jupyter.widget-view+json": {
       "model_id": "",
       "version_major": 2,
       "version_minor": 0
      },
      "text/plain": [
       "Epoch 6/50:   0%|          | 0/375 [00:00<?, ?it/s]"
      ]
     },
     "metadata": {},
     "output_type": "display_data"
    },
    {
     "name": "stdout",
     "output_type": "stream",
     "text": [
      "Epoch 6/50, train_loss : 0.1018, val_loss: 0.1871, val_f1: 0.8660\n"
     ]
    },
    {
     "data": {
      "application/vnd.jupyter.widget-view+json": {
       "model_id": "",
       "version_major": 2,
       "version_minor": 0
      },
      "text/plain": [
       "Epoch 7/50:   0%|          | 0/375 [00:00<?, ?it/s]"
      ]
     },
     "metadata": {},
     "output_type": "display_data"
    },
    {
     "name": "stdout",
     "output_type": "stream",
     "text": [
      "Epoch 7/50, train_loss : 0.0726, val_loss: 0.1941, val_f1: 0.8686\n",
      "Early stopping at epoch 7 as validation loss has not decreased for 3 epochs since epoch-4.\n"
     ]
    },
    {
     "data": {
      "image/png": "[encoded data removed]",
      "text/plain": [
       "<Figure size 640x480 with 1 Axes>"
      ]
     },
     "metadata": {},
     "output_type": "display_data"
    },
    {
     "name": "stdout",
     "output_type": "stream",
     "text": [
      "Test Set(en): ('Len: 10000', 'Tokens: 80536', 'Unique: 20222', \"Entities: {'O': 40875, 'I-ORG': 11638, 'I-PER': 7520, 'I-LOC': 6357, 'B-LOC': 4834, 'B-ORG': 4677, 'B-PER': 4635}\")\n",
      "Test Set(it): ('Len: 10000', 'Tokens: 80005', 'Unique: 18461', \"Entities: {'O': 47357, 'I-ORG': 8992, 'I-PER': 5863, 'B-PER': 4911, 'B-LOC': 4600, 'I-LOC': 4166, 'B-ORG': 4116}\")\n",
      "Test Set(af): ('Len: 1000', 'Tokens: 10894', 'Unique: 3404', \"Entities: {'O': 7764, 'I-ORG': 911, 'B-ORG': 583, 'I-PER': 548, 'B-LOC': 529, 'B-PER': 370, 'I-LOC': 189}\")\n",
      "Test Set(sw): ('Len: 1000', 'Tokens: 5609', 'Unique: 1830', \"Entities: {'O': 2412, 'I-ORG': 696, 'I-PER': 674, 'I-LOC': 618, 'B-LOC': 452, 'B-PER': 403, 'B-ORG': 354}\")\n",
      "Test Set(de): ('Len: 10000', 'Tokens: 97805', 'Unique: 23570', \"Entities: {'O': 69057, 'I-PER': 6539, 'I-ORG': 6107, 'B-LOC': 4968, 'B-PER': 4569, 'B-ORG': 4281, 'I-LOC': 2284}\")\n",
      "LANG [en]: F1-score (Token-level) : 0.839\n",
      "Test Loss: 0.28576329180711435 \n",
      " Test Evaluation (strict IOB2):\n",
      "              precision    recall  f1-score   support\n",
      "\n",
      "         LOC      0.862     0.901     0.881      8687\n",
      "         ORG      0.774     0.745     0.759      7203\n",
      "         PER      0.891     0.894     0.892      6259\n",
      "\n",
      "   micro avg      0.843     0.848     0.845     22149\n",
      "   macro avg      0.842     0.846     0.844     22149\n",
      "weighted avg      0.841     0.848     0.844     22149\n",
      "\n",
      "LANG [it]: F1-score (Token-level) : 0.906\n",
      "Test Loss: 0.1587434037576748 \n",
      " Test Evaluation (strict IOB2):\n",
      "              precision    recall  f1-score   support\n",
      "\n",
      "         LOC      0.893     0.924     0.908      8402\n",
      "         ORG      0.861     0.861     0.861      6142\n",
      "         PER      0.959     0.950     0.954      6732\n",
      "\n",
      "   micro avg      0.904     0.914     0.909     21276\n",
      "   macro avg      0.904     0.912     0.908     21276\n",
      "weighted avg      0.904     0.914     0.909     21276\n",
      "\n",
      "LANG [af]: F1-score (Token-level) : 0.793\n",
      "Test Loss: 0.31645136699080467 \n",
      " Test Evaluation (strict IOB2):\n",
      "              precision    recall  f1-score   support\n",
      "\n",
      "         LOC      0.751     0.890     0.815      1166\n",
      "         ORG      0.699     0.783     0.738      1137\n",
      "         PER      0.839     0.938     0.885       576\n",
      "\n",
      "   micro avg      0.748     0.857     0.799      2879\n",
      "   macro avg      0.763     0.870     0.813      2879\n",
      "weighted avg      0.748     0.857     0.799      2879\n",
      "\n",
      "LANG [sw]: F1-score (Token-level) : 0.656\n",
      "Test Loss: 0.7571860104799271 \n",
      " Test Evaluation (strict IOB2):\n",
      "              precision    recall  f1-score   support\n",
      "\n",
      "         LOC      0.681     0.676     0.679       791\n",
      "         ORG      0.425     0.558     0.483       557\n",
      "         PER      0.905     0.825     0.863       588\n",
      "\n",
      "   micro avg      0.648     0.688     0.667      1936\n",
      "   macro avg      0.670     0.687     0.675      1936\n",
      "weighted avg      0.675     0.688     0.678      1936\n",
      "\n",
      "LANG [de]: F1-score (Token-level) : 0.862\n",
      "Test Loss: 0.1748378682834438 \n",
      " Test Evaluation (strict IOB2):\n",
      "              precision    recall  f1-score   support\n",
      "\n",
      "         LOC      0.873     0.908     0.890     10220\n",
      "         ORG      0.786     0.814     0.799      8363\n",
      "         PER      0.917     0.901     0.909      6659\n",
      "\n",
      "   micro avg      0.855     0.875     0.865     25242\n",
      "   macro avg      0.859     0.874     0.866     25242\n",
      "weighted avg      0.856     0.875     0.865     25242\n",
      "\n"
     ]
    }
   ],
   "source": [
    "train_test([\"en\", \"it\", \"de\"],[\"en\", \"it\", \"af\", \"sw\", \"de\"], model_path = \"/fp/projects01/ec30/models/bert-base-multilingual-cased/\")"
   ]
  },
  {
   "cell_type": "code",
   "execution_count": null,
   "id": "06226c6d-7a83-44a4-96d3-f205c2556e58",
   "metadata": {},
   "outputs": [],
   "source": []
  },
  {
   "cell_type": "markdown",
   "id": "ddd9cee8-5e81-47ea-88e5-2b9bd68b9972",
   "metadata": {},
   "source": [
    "# Part 3: A Surprise Language "
   ]
  },
  {
   "cell_type": "code",
   "execution_count": null,
   "id": "68d7f355-439a-49e9-8bcc-f69eb0e29431",
   "metadata": {},
   "outputs": [],
   "source": []
  },
  {
   "cell_type": "code",
   "execution_count": null,
   "id": "f1eed28a-9d3d-45eb-964d-3cd9e455dd24",
   "metadata": {},
   "outputs": [],
   "source": []
  }
 ],
 "metadata": {
  "accelerator": "GPU",
  "colab": {
   "gpuType": "T4",
   "provenance": []
  },
  "kernelspec": {
   "display_name": "Python 3 (ipykernel)",
   "language": "python",
   "name": "python3"
  },
  "language_info": {
   "codemirror_mode": {
    "name": "ipython",
    "version": 3
   },
   "file_extension": ".py",
   "mimetype": "text/x-python",
   "name": "python",
   "nbconvert_exporter": "python",
   "pygments_lexer": "ipython3",
   "version": "3.10.8"
  }
 },
 "nbformat": 4,
 "nbformat_minor": 5
}
